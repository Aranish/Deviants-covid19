{
 "cells": [
  {
   "cell_type": "markdown",
   "metadata": {},
   "source": [
    "## Data cleaning"
   ]
  },
  {
   "cell_type": "code",
   "execution_count": 1,
   "metadata": {},
   "outputs": [],
   "source": [
    "## Required packages loaded\n",
    "import pandas as pd\n",
    "import numpy as np\n",
    "import re\n",
    "import difflib\n",
    "import seaborn as sns #for plotting graphs\n",
    "import matplotlib.pyplot as plt #for plotting graphs"
   ]
  },
  {
   "cell_type": "markdown",
   "metadata": {},
   "source": [
    "### Covid_19 government measures dataset"
   ]
  },
  {
   "cell_type": "code",
   "execution_count": 2,
   "metadata": {},
   "outputs": [],
   "source": [
    "# Load the data from excel file into a data frame\n",
    "xlsx = pd.ExcelFile('../datasets/covid19_government_measures_dataset.xlsx')\n",
    "gov_measures = pd.read_excel(xlsx, 'Dataset')"
   ]
  },
  {
   "cell_type": "code",
   "execution_count": 3,
   "metadata": {
    "scrolled": false
   },
   "outputs": [
    {
     "data": {
      "text/html": [
       "<div>\n",
       "<style scoped>\n",
       "    .dataframe tbody tr th:only-of-type {\n",
       "        vertical-align: middle;\n",
       "    }\n",
       "\n",
       "    .dataframe tbody tr th {\n",
       "        vertical-align: top;\n",
       "    }\n",
       "\n",
       "    .dataframe thead th {\n",
       "        text-align: right;\n",
       "    }\n",
       "</style>\n",
       "<table border=\"1\" class=\"dataframe\">\n",
       "  <thead>\n",
       "    <tr style=\"text-align: right;\">\n",
       "      <th></th>\n",
       "      <th>ID</th>\n",
       "      <th>ISO</th>\n",
       "      <th>COUNTRY</th>\n",
       "      <th>REGION</th>\n",
       "      <th>ADMIN_LEVEL_NAME</th>\n",
       "      <th>PCODE</th>\n",
       "      <th>LOG_TYPE</th>\n",
       "      <th>CATEGORY</th>\n",
       "      <th>MEASURE</th>\n",
       "      <th>TARGETED_POP_GROUP</th>\n",
       "      <th>COMMENTS</th>\n",
       "      <th>NON_COMPLIANCE</th>\n",
       "      <th>DATE_IMPLEMENTED</th>\n",
       "      <th>SOURCE</th>\n",
       "      <th>SOURCE_TYPE</th>\n",
       "      <th>LINK</th>\n",
       "      <th>ENTRY_DATE</th>\n",
       "      <th>Alternative source</th>\n",
       "    </tr>\n",
       "  </thead>\n",
       "  <tbody>\n",
       "    <tr>\n",
       "      <th>0</th>\n",
       "      <td>4245</td>\n",
       "      <td>AFG</td>\n",
       "      <td>Afghanistan</td>\n",
       "      <td>Asia</td>\n",
       "      <td>NaN</td>\n",
       "      <td>NaN</td>\n",
       "      <td>Introduction / extension of measures</td>\n",
       "      <td>Public health measures</td>\n",
       "      <td>Awareness campaigns</td>\n",
       "      <td>NaN</td>\n",
       "      <td>MoPH begins announcements on their facebook to...</td>\n",
       "      <td>NaN</td>\n",
       "      <td>2020-01-24</td>\n",
       "      <td>Afghanistan MoPH</td>\n",
       "      <td>Government</td>\n",
       "      <td>https://www.facebook.com/af.moph/posts/1005130...</td>\n",
       "      <td>2020-04-07</td>\n",
       "      <td>NaN</td>\n",
       "    </tr>\n",
       "    <tr>\n",
       "      <th>1</th>\n",
       "      <td>4246</td>\n",
       "      <td>AFG</td>\n",
       "      <td>Afghanistan</td>\n",
       "      <td>Asia</td>\n",
       "      <td>NaN</td>\n",
       "      <td>NaN</td>\n",
       "      <td>Introduction / extension of measures</td>\n",
       "      <td>Public health measures</td>\n",
       "      <td>Health screenings in airports and border cross...</td>\n",
       "      <td>checked</td>\n",
       "      <td>Health teams at airports will check passengers...</td>\n",
       "      <td>NaN</td>\n",
       "      <td>2020-01-26</td>\n",
       "      <td>Afghanistan MoPH</td>\n",
       "      <td>Government</td>\n",
       "      <td>https://www.facebook.com/af.moph/posts/1006458...</td>\n",
       "      <td>2020-04-07</td>\n",
       "      <td>NaN</td>\n",
       "    </tr>\n",
       "    <tr>\n",
       "      <th>2</th>\n",
       "      <td>4247</td>\n",
       "      <td>AFG</td>\n",
       "      <td>Afghanistan</td>\n",
       "      <td>Asia</td>\n",
       "      <td>NaN</td>\n",
       "      <td>NaN</td>\n",
       "      <td>Introduction / extension of measures</td>\n",
       "      <td>Movement restrictions</td>\n",
       "      <td>International flights suspension</td>\n",
       "      <td>checked</td>\n",
       "      <td>Flights to China are suspended.</td>\n",
       "      <td>NaN</td>\n",
       "      <td>2020-01-27</td>\n",
       "      <td>Afghanistan MoPH</td>\n",
       "      <td>Government</td>\n",
       "      <td>https://www.facebook.com/af.moph/photos/a.4625...</td>\n",
       "      <td>2020-04-07</td>\n",
       "      <td>NaN</td>\n",
       "    </tr>\n",
       "    <tr>\n",
       "      <th>3</th>\n",
       "      <td>4248</td>\n",
       "      <td>AFG</td>\n",
       "      <td>Afghanistan</td>\n",
       "      <td>Asia</td>\n",
       "      <td>NaN</td>\n",
       "      <td>NaN</td>\n",
       "      <td>Introduction / extension of measures</td>\n",
       "      <td>Public health measures</td>\n",
       "      <td>Health screenings in airports and border cross...</td>\n",
       "      <td>NaN</td>\n",
       "      <td>Health screenings of all passengers at airports.</td>\n",
       "      <td>NaN</td>\n",
       "      <td>2020-01-27</td>\n",
       "      <td>Afghanistan MoPH</td>\n",
       "      <td>Government</td>\n",
       "      <td>https://www.facebook.com/af.moph/photos/a.4625...</td>\n",
       "      <td>2020-04-07</td>\n",
       "      <td>NaN</td>\n",
       "    </tr>\n",
       "    <tr>\n",
       "      <th>4</th>\n",
       "      <td>23</td>\n",
       "      <td>AFG</td>\n",
       "      <td>Afghanistan</td>\n",
       "      <td>Asia</td>\n",
       "      <td>NaN</td>\n",
       "      <td>NaN</td>\n",
       "      <td>Introduction / extension of measures</td>\n",
       "      <td>Movement restrictions</td>\n",
       "      <td>Border checks</td>\n",
       "      <td>checked</td>\n",
       "      <td>All China and Iran nationals</td>\n",
       "      <td>NaN</td>\n",
       "      <td>2020-02-01</td>\n",
       "      <td>US Embassy</td>\n",
       "      <td>Government</td>\n",
       "      <td>https://af.usembassy.gov/covid-19-information/</td>\n",
       "      <td>2020-03-14</td>\n",
       "      <td>NaN</td>\n",
       "    </tr>\n",
       "  </tbody>\n",
       "</table>\n",
       "</div>"
      ],
      "text/plain": [
       "     ID  ISO      COUNTRY REGION ADMIN_LEVEL_NAME  PCODE  \\\n",
       "0  4245  AFG  Afghanistan   Asia              NaN    NaN   \n",
       "1  4246  AFG  Afghanistan   Asia              NaN    NaN   \n",
       "2  4247  AFG  Afghanistan   Asia              NaN    NaN   \n",
       "3  4248  AFG  Afghanistan   Asia              NaN    NaN   \n",
       "4    23  AFG  Afghanistan   Asia              NaN    NaN   \n",
       "\n",
       "                               LOG_TYPE                CATEGORY  \\\n",
       "0  Introduction / extension of measures  Public health measures   \n",
       "1  Introduction / extension of measures  Public health measures   \n",
       "2  Introduction / extension of measures   Movement restrictions   \n",
       "3  Introduction / extension of measures  Public health measures   \n",
       "4  Introduction / extension of measures   Movement restrictions   \n",
       "\n",
       "                                             MEASURE TARGETED_POP_GROUP  \\\n",
       "0                                Awareness campaigns                NaN   \n",
       "1  Health screenings in airports and border cross...            checked   \n",
       "2                   International flights suspension            checked   \n",
       "3  Health screenings in airports and border cross...                NaN   \n",
       "4                                      Border checks            checked   \n",
       "\n",
       "                                            COMMENTS NON_COMPLIANCE  \\\n",
       "0  MoPH begins announcements on their facebook to...            NaN   \n",
       "1  Health teams at airports will check passengers...            NaN   \n",
       "2                   Flights to China are suspended.             NaN   \n",
       "3  Health screenings of all passengers at airports.             NaN   \n",
       "4                       All China and Iran nationals            NaN   \n",
       "\n",
       "  DATE_IMPLEMENTED            SOURCE SOURCE_TYPE  \\\n",
       "0       2020-01-24  Afghanistan MoPH  Government   \n",
       "1       2020-01-26  Afghanistan MoPH  Government   \n",
       "2       2020-01-27  Afghanistan MoPH  Government   \n",
       "3       2020-01-27  Afghanistan MoPH  Government   \n",
       "4       2020-02-01       US Embassy   Government   \n",
       "\n",
       "                                                LINK ENTRY_DATE  \\\n",
       "0  https://www.facebook.com/af.moph/posts/1005130... 2020-04-07   \n",
       "1  https://www.facebook.com/af.moph/posts/1006458... 2020-04-07   \n",
       "2  https://www.facebook.com/af.moph/photos/a.4625... 2020-04-07   \n",
       "3  https://www.facebook.com/af.moph/photos/a.4625... 2020-04-07   \n",
       "4     https://af.usembassy.gov/covid-19-information/ 2020-03-14   \n",
       "\n",
       "  Alternative source  \n",
       "0                NaN  \n",
       "1                NaN  \n",
       "2                NaN  \n",
       "3                NaN  \n",
       "4                NaN  "
      ]
     },
     "execution_count": 3,
     "metadata": {},
     "output_type": "execute_result"
    }
   ],
   "source": [
    "# Check the dataframe\n",
    "gov_measures.head()"
   ]
  },
  {
   "cell_type": "code",
   "execution_count": 4,
   "metadata": {},
   "outputs": [
    {
     "data": {
      "text/plain": [
       "(23923, 18)"
      ]
     },
     "execution_count": 4,
     "metadata": {},
     "output_type": "execute_result"
    }
   ],
   "source": [
    "# Check the row and column count of the dataframe\n",
    "gov_measures.shape"
   ]
  },
  {
   "cell_type": "code",
   "execution_count": 5,
   "metadata": {},
   "outputs": [
    {
     "name": "stdout",
     "output_type": "stream",
     "text": [
      "<class 'pandas.core.frame.DataFrame'>\n",
      "RangeIndex: 23923 entries, 0 to 23922\n",
      "Data columns (total 18 columns):\n",
      " #   Column              Non-Null Count  Dtype         \n",
      "---  ------              --------------  -----         \n",
      " 0   ID                  23923 non-null  int64         \n",
      " 1   ISO                 23923 non-null  object        \n",
      " 2   COUNTRY             23923 non-null  object        \n",
      " 3   REGION              23923 non-null  object        \n",
      " 4   ADMIN_LEVEL_NAME    3682 non-null   object        \n",
      " 5   PCODE               0 non-null      float64       \n",
      " 6   LOG_TYPE            23923 non-null  object        \n",
      " 7   CATEGORY            23923 non-null  object        \n",
      " 8   MEASURE             23923 non-null  object        \n",
      " 9   TARGETED_POP_GROUP  7556 non-null   object        \n",
      " 10  COMMENTS            23799 non-null  object        \n",
      " 11  NON_COMPLIANCE      22764 non-null  object        \n",
      " 12  DATE_IMPLEMENTED    23630 non-null  datetime64[ns]\n",
      " 13  SOURCE              23900 non-null  object        \n",
      " 14  SOURCE_TYPE         23912 non-null  object        \n",
      " 15  LINK                23890 non-null  object        \n",
      " 16  ENTRY_DATE          23923 non-null  datetime64[ns]\n",
      " 17  Alternative source  1779 non-null   object        \n",
      "dtypes: datetime64[ns](2), float64(1), int64(1), object(14)\n",
      "memory usage: 3.3+ MB\n"
     ]
    }
   ],
   "source": [
    "# Check the info of the data structure\n",
    "gov_measures.info()"
   ]
  },
  {
   "cell_type": "code",
   "execution_count": 6,
   "metadata": {},
   "outputs": [
    {
     "data": {
      "text/plain": [
       "ID                        0\n",
       "ISO                       0\n",
       "COUNTRY                   0\n",
       "REGION                    0\n",
       "ADMIN_LEVEL_NAME      20241\n",
       "PCODE                 23923\n",
       "LOG_TYPE                  0\n",
       "CATEGORY                  0\n",
       "MEASURE                   0\n",
       "TARGETED_POP_GROUP    16367\n",
       "COMMENTS                124\n",
       "NON_COMPLIANCE         1159\n",
       "DATE_IMPLEMENTED        293\n",
       "SOURCE                   23\n",
       "SOURCE_TYPE              11\n",
       "LINK                     33\n",
       "ENTRY_DATE                0\n",
       "Alternative source    22144\n",
       "dtype: int64"
      ]
     },
     "execution_count": 6,
     "metadata": {},
     "output_type": "execute_result"
    }
   ],
   "source": [
    "# Check the null values in all columns\n",
    "gov_measures.isnull().sum()"
   ]
  },
  {
   "cell_type": "code",
   "execution_count": 7,
   "metadata": {},
   "outputs": [
    {
     "data": {
      "text/html": [
       "<div>\n",
       "<style scoped>\n",
       "    .dataframe tbody tr th:only-of-type {\n",
       "        vertical-align: middle;\n",
       "    }\n",
       "\n",
       "    .dataframe tbody tr th {\n",
       "        vertical-align: top;\n",
       "    }\n",
       "\n",
       "    .dataframe thead th {\n",
       "        text-align: right;\n",
       "    }\n",
       "</style>\n",
       "<table border=\"1\" class=\"dataframe\">\n",
       "  <thead>\n",
       "    <tr style=\"text-align: right;\">\n",
       "      <th></th>\n",
       "      <th>ID</th>\n",
       "      <th>COUNTRY</th>\n",
       "    </tr>\n",
       "  </thead>\n",
       "  <tbody>\n",
       "    <tr>\n",
       "      <th>0</th>\n",
       "      <td>4245</td>\n",
       "      <td>Afghanistan</td>\n",
       "    </tr>\n",
       "    <tr>\n",
       "      <th>1</th>\n",
       "      <td>4246</td>\n",
       "      <td>Afghanistan</td>\n",
       "    </tr>\n",
       "    <tr>\n",
       "      <th>2</th>\n",
       "      <td>4247</td>\n",
       "      <td>Afghanistan</td>\n",
       "    </tr>\n",
       "    <tr>\n",
       "      <th>3</th>\n",
       "      <td>4248</td>\n",
       "      <td>Afghanistan</td>\n",
       "    </tr>\n",
       "    <tr>\n",
       "      <th>4</th>\n",
       "      <td>23</td>\n",
       "      <td>Afghanistan</td>\n",
       "    </tr>\n",
       "    <tr>\n",
       "      <th>...</th>\n",
       "      <td>...</td>\n",
       "      <td>...</td>\n",
       "    </tr>\n",
       "    <tr>\n",
       "      <th>23918</th>\n",
       "      <td>13724</td>\n",
       "      <td>Zimbabwe</td>\n",
       "    </tr>\n",
       "    <tr>\n",
       "      <th>23919</th>\n",
       "      <td>14735</td>\n",
       "      <td>Zimbabwe</td>\n",
       "    </tr>\n",
       "    <tr>\n",
       "      <th>23920</th>\n",
       "      <td>14734</td>\n",
       "      <td>Zimbabwe</td>\n",
       "    </tr>\n",
       "    <tr>\n",
       "      <th>23921</th>\n",
       "      <td>13723</td>\n",
       "      <td>Zimbabwe</td>\n",
       "    </tr>\n",
       "    <tr>\n",
       "      <th>23922</th>\n",
       "      <td>138074</td>\n",
       "      <td>Zimbabwe</td>\n",
       "    </tr>\n",
       "  </tbody>\n",
       "</table>\n",
       "<p>23923 rows × 2 columns</p>\n",
       "</div>"
      ],
      "text/plain": [
       "           ID      COUNTRY\n",
       "0        4245  Afghanistan\n",
       "1        4246  Afghanistan\n",
       "2        4247  Afghanistan\n",
       "3        4248  Afghanistan\n",
       "4          23  Afghanistan\n",
       "...       ...          ...\n",
       "23918   13724     Zimbabwe\n",
       "23919   14735     Zimbabwe\n",
       "23920   14734     Zimbabwe\n",
       "23921   13723     Zimbabwe\n",
       "23922  138074     Zimbabwe\n",
       "\n",
       "[23923 rows x 2 columns]"
      ]
     },
     "execution_count": 7,
     "metadata": {},
     "output_type": "execute_result"
    }
   ],
   "source": [
    "# Check the ID column\n",
    "gov_measures[['ID','COUNTRY']]"
   ]
  },
  {
   "cell_type": "code",
   "execution_count": 8,
   "metadata": {},
   "outputs": [],
   "source": [
    "# Since we are going to deal with country wise data, the ID column contains multiple Id for one country.\n",
    "# Hence we are dropping this column from the dataframe\n",
    "gov_measures.drop('ID', inplace=True, axis=1)"
   ]
  },
  {
   "cell_type": "code",
   "execution_count": 9,
   "metadata": {},
   "outputs": [
    {
     "data": {
      "text/plain": [
       "array([nan, 'Kabul', 'Herat Province', ..., 'Houthi rebel group',\n",
       "       'Houthi regions', 'Nakonde'], dtype=object)"
      ]
     },
     "execution_count": 9,
     "metadata": {},
     "output_type": "execute_result"
    }
   ],
   "source": [
    "# Check the ADMIN_LEVEL_NAME column\n",
    "gov_measures.ADMIN_LEVEL_NAME.unique()"
   ]
  },
  {
   "cell_type": "code",
   "execution_count": 10,
   "metadata": {},
   "outputs": [],
   "source": [
    "# Since the ADMIN_LEVEL_NAME column scarsely populated city names we are dropping this column from the dataframe\n",
    "gov_measures.drop('ADMIN_LEVEL_NAME', inplace=True, axis=1)"
   ]
  },
  {
   "cell_type": "code",
   "execution_count": 11,
   "metadata": {},
   "outputs": [
    {
     "data": {
      "text/plain": [
       "array([nan])"
      ]
     },
     "execution_count": 11,
     "metadata": {},
     "output_type": "execute_result"
    }
   ],
   "source": [
    "# Check the PCODE column\n",
    "gov_measures.PCODE.unique()"
   ]
  },
  {
   "cell_type": "code",
   "execution_count": 12,
   "metadata": {},
   "outputs": [],
   "source": [
    "# Since this field does not contain any value in it we are dropping this column from the dataframe\n",
    "gov_measures.drop('PCODE', inplace=True, axis=1)"
   ]
  },
  {
   "cell_type": "code",
   "execution_count": 13,
   "metadata": {},
   "outputs": [
    {
     "data": {
      "text/plain": [
       "array([nan, 'checked'], dtype=object)"
      ]
     },
     "execution_count": 13,
     "metadata": {},
     "output_type": "execute_result"
    }
   ],
   "source": [
    "# Check the TARGETED_POP_GROUP column\n",
    "gov_measures.TARGETED_POP_GROUP.unique()"
   ]
  },
  {
   "cell_type": "code",
   "execution_count": 14,
   "metadata": {},
   "outputs": [],
   "source": [
    "# Since the TARGETED_POP_GROUP column scarsely populated checked/blank values we are dropping this column from \n",
    "# the dataframe.It is evident that this column will not be helpful in the country wise analysis\n",
    "gov_measures.drop('TARGETED_POP_GROUP', inplace=True, axis=1)"
   ]
  },
  {
   "cell_type": "code",
   "execution_count": 15,
   "metadata": {},
   "outputs": [
    {
     "data": {
      "text/plain": [
       "array(['MoPH begins announcements on their facebook to make public aware of coronavirus. ',\n",
       "       'Health teams at airports will check passengers coming from China. ',\n",
       "       'Flights to China are suspended. ', ...,\n",
       "       \"Restaurants now allowed to serve sit-in meals at 50 percent of the restaurant's sitting capacity.\",\n",
       "       'the re-opening of schools be moved from the proposed 29 June 2020 to 28 July 2020',\n",
       "       'Passengers will undergo temperature checks at the airport.'],\n",
       "      dtype=object)"
      ]
     },
     "execution_count": 15,
     "metadata": {},
     "output_type": "execute_result"
    }
   ],
   "source": [
    "# Check the COMMENTS column\n",
    "gov_measures.COMMENTS.unique()"
   ]
  },
  {
   "cell_type": "code",
   "execution_count": 16,
   "metadata": {},
   "outputs": [],
   "source": [
    "# Since we are going to deal with country wise statistical data, \n",
    "# the COMMENTS column will not be helpful for the analysis as it contains only string comments\n",
    "# Hence we are dropping this column from the dataframe\n",
    "gov_measures.drop('COMMENTS', inplace=True, axis=1)"
   ]
  },
  {
   "cell_type": "code",
   "execution_count": 17,
   "metadata": {},
   "outputs": [],
   "source": [
    "# Since we are going to deal with country wise statistical data, \n",
    "# the SOURCE column contains the details of the information actual source which will not be helpful for the analysis\n",
    "# Hence we are dropping this column from the dataframe\n",
    "gov_measures.drop('SOURCE', inplace=True, axis=1)"
   ]
  },
  {
   "cell_type": "code",
   "execution_count": 18,
   "metadata": {},
   "outputs": [
    {
     "data": {
      "text/plain": [
       "array(['https://www.facebook.com/af.moph/posts/1005130256522820?__tn__=-R',\n",
       "       'https://www.facebook.com/af.moph/posts/1006458563056656?__tn__=-R ',\n",
       "       'https://www.facebook.com/af.moph/photos/a.462598094109375/1007117789657400/?type=3&theater',\n",
       "       ...,\n",
       "       'https://twitter.com/MinOfInfoZW/status/1270378086475927555?s=20',\n",
       "       'https://twitter.com/MinOfInfoZW/status/1278043785079988229?s=20',\n",
       "       'https://www.emirates.com/za/english/help/faqs/travel-advisory-zimbabwe/'],\n",
       "      dtype=object)"
      ]
     },
     "execution_count": 18,
     "metadata": {},
     "output_type": "execute_result"
    }
   ],
   "source": [
    "# Check the LINK column\n",
    "gov_measures.LINK.unique()"
   ]
  },
  {
   "cell_type": "code",
   "execution_count": 19,
   "metadata": {},
   "outputs": [],
   "source": [
    "# Since we are going to deal with country wise statistical data, \n",
    "# the LINK column contains the website links of the avtual source which will not be helpful for the analysis\n",
    "# Hence we are dropping this column from the dataframe\n",
    "gov_measures.drop('LINK', inplace=True, axis=1)"
   ]
  },
  {
   "cell_type": "code",
   "execution_count": 20,
   "metadata": {},
   "outputs": [
    {
     "data": {
      "text/plain": [
       "array(['2020-04-07T00:00:00.000000000', '2020-03-14T00:00:00.000000000',\n",
       "       '2020-05-11T00:00:00.000000000', '2020-05-18T00:00:00.000000000',\n",
       "       '2020-07-07T00:00:00.000000000', '2020-08-21T00:00:00.000000000',\n",
       "       '2020-09-25T00:00:00.000000000', '2020-04-15T00:00:00.000000000',\n",
       "       '2020-04-24T00:00:00.000000000', '2020-03-20T00:00:00.000000000',\n",
       "       '2020-03-24T00:00:00.000000000', '2020-04-03T00:00:00.000000000',\n",
       "       '2020-05-04T00:00:00.000000000', '2020-05-22T00:00:00.000000000',\n",
       "       '2020-05-29T00:00:00.000000000', '2020-06-04T00:00:00.000000000',\n",
       "       '2020-06-18T00:00:00.000000000', '2020-07-28T00:00:00.000000000',\n",
       "       '2020-08-28T00:00:00.000000000', '2020-09-26T00:00:00.000000000',\n",
       "       '2020-10-27T00:00:00.000000000', '2020-11-20T00:00:00.000000000',\n",
       "       '2020-12-06T00:00:00.000000000', '2020-03-26T00:00:00.000000000',\n",
       "       '2020-04-28T00:00:00.000000000', '2020-05-05T00:00:00.000000000',\n",
       "       '2020-05-13T00:00:00.000000000', '2020-06-11T00:00:00.000000000',\n",
       "       '2020-06-19T00:00:00.000000000', '2020-10-15T00:00:00.000000000',\n",
       "       '2020-11-10T00:00:00.000000000', '2020-11-09T00:00:00.000000000',\n",
       "       '2020-12-04T00:00:00.000000000', '2020-11-01T00:00:00.000000000',\n",
       "       '2020-03-21T00:00:00.000000000', '2020-03-27T00:00:00.000000000',\n",
       "       '2020-04-01T00:00:00.000000000', '2020-04-14T00:00:00.000000000',\n",
       "       '2020-04-21T00:00:00.000000000', '2020-04-20T00:00:00.000000000',\n",
       "       '2020-05-12T00:00:00.000000000', '2020-05-26T00:00:00.000000000',\n",
       "       '2020-06-02T00:00:00.000000000', '2020-06-12T00:00:00.000000000',\n",
       "       '2020-07-03T00:00:00.000000000', '2020-07-15T00:00:00.000000000',\n",
       "       '2020-08-16T00:00:00.000000000', '2020-11-02T00:00:00.000000000',\n",
       "       '2020-11-07T00:00:00.000000000', '2020-11-11T00:00:00.000000000',\n",
       "       '2020-11-03T00:00:00.000000000', '2020-11-08T00:00:00.000000000',\n",
       "       '2020-11-26T00:00:00.000000000', '2020-06-22T00:00:00.000000000',\n",
       "       '2020-04-10T00:00:00.000000000', '2020-03-15T00:00:00.000000000',\n",
       "       '2020-05-16T00:00:00.000000000', '2020-09-21T00:00:00.000000000',\n",
       "       '2020-07-08T00:00:00.000000000', '2020-07-12T00:00:00.000000000',\n",
       "       '2020-08-12T00:00:00.000000000', '2020-09-24T00:00:00.000000000',\n",
       "       '2020-10-12T00:00:00.000000000', '2020-11-25T00:00:00.000000000',\n",
       "       '2020-12-01T00:00:00.000000000', '2020-04-27T00:00:00.000000000',\n",
       "       '2020-03-31T00:00:00.000000000', '2020-04-09T00:00:00.000000000',\n",
       "       '2020-04-17T00:00:00.000000000', '2020-05-06T00:00:00.000000000',\n",
       "       '2020-05-19T00:00:00.000000000', '2020-05-25T00:00:00.000000000',\n",
       "       '2020-06-03T00:00:00.000000000', '2020-06-07T00:00:00.000000000',\n",
       "       '2020-06-16T00:00:00.000000000', '2020-06-27T00:00:00.000000000',\n",
       "       '2020-07-13T00:00:00.000000000', '2020-08-14T00:00:00.000000000',\n",
       "       '2020-09-14T00:00:00.000000000', '2020-09-23T00:00:00.000000000',\n",
       "       '2020-10-23T00:00:00.000000000', '2020-11-13T00:00:00.000000000',\n",
       "       '2020-11-30T00:00:00.000000000', '2020-03-16T00:00:00.000000000',\n",
       "       '2020-06-20T00:00:00.000000000', '2020-06-21T00:00:00.000000000',\n",
       "       '2020-07-30T00:00:00.000000000', '2020-08-29T00:00:00.000000000',\n",
       "       '2020-12-02T00:00:00.000000000', '2020-03-22T00:00:00.000000000',\n",
       "       '2020-03-25T00:00:00.000000000', '2020-04-02T00:00:00.000000000',\n",
       "       '2020-10-04T00:00:00.000000000', '2020-06-30T00:00:00.000000000',\n",
       "       '2020-09-08T00:00:00.000000000', '2020-10-21T00:00:00.000000000',\n",
       "       '2020-09-30T00:00:00.000000000', '2020-10-28T00:00:00.000000000',\n",
       "       '2020-11-23T00:00:00.000000000', '2020-11-21T00:00:00.000000000',\n",
       "       '2020-12-08T00:00:00.000000000', '2020-04-25T00:00:00.000000000',\n",
       "       '2020-05-03T00:00:00.000000000', '2020-05-20T00:00:00.000000000',\n",
       "       '2020-05-28T00:00:00.000000000', '2020-04-16T00:00:00.000000000',\n",
       "       '2020-04-11T00:00:00.000000000', '2020-06-05T00:00:00.000000000',\n",
       "       '2020-06-17T00:00:00.000000000', '2020-07-11T00:00:00.000000000',\n",
       "       '2020-09-22T00:00:00.000000000', '2020-12-03T00:00:00.000000000',\n",
       "       '2020-07-06T00:00:00.000000000', '2020-06-24T00:00:00.000000000',\n",
       "       '2020-08-05T00:00:00.000000000', '2020-08-02T00:00:00.000000000',\n",
       "       '2020-09-03T00:00:00.000000000', '2020-04-12T00:00:00.000000000',\n",
       "       '2020-07-04T00:00:00.000000000', '2020-03-29T00:00:00.000000000',\n",
       "       '2020-04-26T00:00:00.000000000', '2020-05-30T00:00:00.000000000',\n",
       "       '2020-06-06T00:00:00.000000000', '2020-08-15T00:00:00.000000000',\n",
       "       '2020-10-19T00:00:00.000000000', '2020-09-12T00:00:00.000000000',\n",
       "       '2020-11-22T00:00:00.000000000', '2020-12-05T00:00:00.000000000',\n",
       "       '2020-04-29T00:00:00.000000000', '2020-10-03T00:00:00.000000000',\n",
       "       '2020-03-23T00:00:00.000000000', '2020-05-23T00:00:00.000000000',\n",
       "       '2020-09-28T00:00:00.000000000', '2020-10-13T00:00:00.000000000',\n",
       "       '2020-10-07T00:00:00.000000000', '2020-10-08T00:00:00.000000000',\n",
       "       '2020-10-31T00:00:00.000000000', '2020-05-27T00:00:00.000000000',\n",
       "       '2020-11-16T00:00:00.000000000', '2020-04-23T00:00:00.000000000',\n",
       "       '2020-09-15T00:00:00.000000000', '2020-11-24T00:00:00.000000000',\n",
       "       '2020-04-05T00:00:00.000000000', '2020-04-06T00:00:00.000000000',\n",
       "       '2020-05-08T00:00:00.000000000', '2020-06-09T00:00:00.000000000',\n",
       "       '2020-07-23T00:00:00.000000000', '2020-03-17T00:00:00.000000000',\n",
       "       '2020-10-20T00:00:00.000000000', '2020-10-05T00:00:00.000000000',\n",
       "       '2020-08-06T00:00:00.000000000', '2020-09-05T00:00:00.000000000',\n",
       "       '2020-11-04T00:00:00.000000000', '2020-11-18T00:00:00.000000000',\n",
       "       '2020-10-09T00:00:00.000000000', '2020-08-25T00:00:00.000000000',\n",
       "       '2020-04-18T00:00:00.000000000', '2020-04-22T00:00:00.000000000',\n",
       "       '2020-04-30T00:00:00.000000000', '2020-05-14T00:00:00.000000000',\n",
       "       '2020-06-10T00:00:00.000000000', '2020-07-09T00:00:00.000000000',\n",
       "       '2020-10-22T00:00:00.000000000', '2020-12-07T00:00:00.000000000',\n",
       "       '2020-09-29T00:00:00.000000000', '2020-03-30T00:00:00.000000000',\n",
       "       '2020-07-16T00:00:00.000000000', '2020-08-17T00:00:00.000000000',\n",
       "       '2020-10-02T00:00:00.000000000', '2020-10-26T00:00:00.000000000',\n",
       "       '2020-10-30T00:00:00.000000000', '2020-11-14T00:00:00.000000000',\n",
       "       '2020-05-07T00:00:00.000000000', '2020-06-28T00:00:00.000000000',\n",
       "       '2020-09-16T00:00:00.000000000', '2020-09-09T00:00:00.000000000',\n",
       "       '2020-10-29T00:00:00.000000000', '2020-09-27T00:00:00.000000000',\n",
       "       '2020-08-24T00:00:00.000000000', '2020-11-17T00:00:00.000000000',\n",
       "       '2020-07-14T00:00:00.000000000', '2020-03-28T00:00:00.000000000',\n",
       "       '2020-08-30T00:00:00.000000000', '2020-08-31T00:00:00.000000000',\n",
       "       '2020-05-01T00:00:00.000000000', '2020-11-29T00:00:00.000000000',\n",
       "       '2020-08-26T00:00:00.000000000', '2020-09-20T00:00:00.000000000',\n",
       "       '2020-10-25T00:00:00.000000000', '2020-11-06T00:00:00.000000000',\n",
       "       '2020-11-19T00:00:00.000000000', '2020-08-27T00:00:00.000000000',\n",
       "       '2020-07-22T00:00:00.000000000', '2020-10-16T00:00:00.000000000',\n",
       "       '2020-11-05T00:00:00.000000000', '2020-07-17T00:00:00.000000000',\n",
       "       '2020-08-19T00:00:00.000000000', '2020-07-29T00:00:00.000000000',\n",
       "       '2020-07-18T00:00:00.000000000', '2020-10-24T00:00:00.000000000',\n",
       "       '2020-10-18T00:00:00.000000000', '2020-10-14T00:00:00.000000000',\n",
       "       '2020-10-01T00:00:00.000000000', '2020-05-31T00:00:00.000000000',\n",
       "       '2020-10-06T00:00:00.000000000', '2020-11-12T00:00:00.000000000',\n",
       "       '2020-04-19T00:00:00.000000000', '2020-05-02T00:00:00.000000000',\n",
       "       '2020-08-13T00:00:00.000000000', '2020-08-20T00:00:00.000000000',\n",
       "       '2020-08-08T00:00:00.000000000', '2020-07-21T00:00:00.000000000',\n",
       "       '2020-11-28T00:00:00.000000000', '2020-03-18T00:00:00.000000000',\n",
       "       '2020-07-20T00:00:00.000000000', '2020-07-25T00:00:00.000000000',\n",
       "       '2020-10-10T00:00:00.000000000', '2020-10-11T00:00:00.000000000',\n",
       "       '2020-09-13T00:00:00.000000000', '2020-07-10T00:00:00.000000000',\n",
       "       '2020-11-15T00:00:00.000000000', '2020-04-08T00:00:00.000000000',\n",
       "       '2020-03-19T00:00:00.000000000', '2020-08-18T00:00:00.000000000',\n",
       "       '2020-05-15T00:00:00.000000000', '2020-10-17T00:00:00.000000000',\n",
       "       '2020-07-24T00:00:00.000000000', '2020-06-13T00:00:00.000000000',\n",
       "       '2020-11-27T00:00:00.000000000', '2020-09-11T00:00:00.000000000',\n",
       "       '2020-08-04T00:00:00.000000000', '2020-06-26T00:00:00.000000000',\n",
       "       '2020-07-26T00:00:00.000000000', '2020-06-08T00:00:00.000000000',\n",
       "       '2020-03-04T00:00:00.000000000', '2020-05-21T00:00:00.000000000',\n",
       "       '2020-08-10T00:00:00.000000000'], dtype='datetime64[ns]')"
      ]
     },
     "execution_count": 20,
     "metadata": {},
     "output_type": "execute_result"
    }
   ],
   "source": [
    "# Check the ENTRY_DATE column\n",
    "gov_measures.ENTRY_DATE.unique()"
   ]
  },
  {
   "cell_type": "code",
   "execution_count": 21,
   "metadata": {},
   "outputs": [],
   "source": [
    "# Since we are going to deal with country wise statistical data, \n",
    "# the ENTRY_DATE column contains the entry date of the information on the source website \n",
    "# which will not be helpful for the analysis\n",
    "# Hence we are dropping this column from the dataframe\n",
    "gov_measures.drop('ENTRY_DATE', inplace=True, axis=1)"
   ]
  },
  {
   "cell_type": "code",
   "execution_count": 22,
   "metadata": {},
   "outputs": [
    {
     "data": {
      "text/plain": [
       "array([nan, 'http://tinyurl.com/twpqsek ',\n",
       "       'https://www.facebook.com/af.moph/posts/1035892706779908?__tn__=-R',\n",
       "       ..., 'https://www.bbc.com/news/topics/crr7mlg0rpvt/zimbabwe',\n",
       "       'https://www.garda.com/crisis24/news-alerts/339441/zimbabwe-face-masks-mandatory-in-public-spaces-may-4-update-7',\n",
       "       'https://zw.usembassy.gov/covid-19-information-2/'], dtype=object)"
      ]
     },
     "execution_count": 22,
     "metadata": {},
     "output_type": "execute_result"
    }
   ],
   "source": [
    "# Check the Alternative source column\n",
    "gov_measures['Alternative source'].unique()"
   ]
  },
  {
   "cell_type": "code",
   "execution_count": 23,
   "metadata": {},
   "outputs": [],
   "source": [
    "# Since we are going to deal with country wise statistical data, \n",
    "# the Alternative source column contains secondary source information which will not be helpful for the analysis\n",
    "# Hence we are dropping this column from the dataframe\n",
    "gov_measures.drop('Alternative source', inplace=True, axis=1)"
   ]
  },
  {
   "cell_type": "code",
   "execution_count": 24,
   "metadata": {},
   "outputs": [
    {
     "name": "stdout",
     "output_type": "stream",
     "text": [
      "<class 'pandas.core.frame.DataFrame'>\n",
      "RangeIndex: 23923 entries, 0 to 23922\n",
      "Data columns (total 9 columns):\n",
      " #   Column            Non-Null Count  Dtype         \n",
      "---  ------            --------------  -----         \n",
      " 0   ISO               23923 non-null  object        \n",
      " 1   COUNTRY           23923 non-null  object        \n",
      " 2   REGION            23923 non-null  object        \n",
      " 3   LOG_TYPE          23923 non-null  object        \n",
      " 4   CATEGORY          23923 non-null  object        \n",
      " 5   MEASURE           23923 non-null  object        \n",
      " 6   NON_COMPLIANCE    22764 non-null  object        \n",
      " 7   DATE_IMPLEMENTED  23630 non-null  datetime64[ns]\n",
      " 8   SOURCE_TYPE       23912 non-null  object        \n",
      "dtypes: datetime64[ns](1), object(8)\n",
      "memory usage: 1.6+ MB\n"
     ]
    }
   ],
   "source": [
    "# Final dataset with actual columns to analyse\n",
    "gov_measures.info()"
   ]
  },
  {
   "cell_type": "code",
   "execution_count": 25,
   "metadata": {},
   "outputs": [
    {
     "data": {
      "text/plain": [
       "ISO                    0\n",
       "COUNTRY                0\n",
       "REGION                 0\n",
       "LOG_TYPE               0\n",
       "CATEGORY               0\n",
       "MEASURE                0\n",
       "NON_COMPLIANCE      1159\n",
       "DATE_IMPLEMENTED     293\n",
       "SOURCE_TYPE           11\n",
       "dtype: int64"
      ]
     },
     "execution_count": 25,
     "metadata": {},
     "output_type": "execute_result"
    }
   ],
   "source": [
    "# Final dataset all column null check\n",
    "gov_measures.isnull().sum()"
   ]
  },
  {
   "cell_type": "code",
   "execution_count": 26,
   "metadata": {},
   "outputs": [],
   "source": [
    "# Renaming of columns\n",
    "gov_measures.rename(columns = {'SOURCE_TYPE':'SOURCE'}, inplace = True)\n",
    "gov_measures.rename(columns = {'LOG_TYPE':'EXISTING_MEASURE_OR_NEW_MEASURE'}, inplace = True)"
   ]
  },
  {
   "cell_type": "code",
   "execution_count": 27,
   "metadata": {},
   "outputs": [
    {
     "data": {
      "text/plain": [
       "Government             15624\n",
       "Media                   5681\n",
       "Other organisations     1462\n",
       "Social media             525\n",
       "Other Organisations      424\n",
       "UN                       107\n",
       "Social Media              30\n",
       "Other                     30\n",
       "media                     23\n",
       "NaN                       11\n",
       "other                      6\n",
       "Name: SOURCE, dtype: int64"
      ]
     },
     "execution_count": 27,
     "metadata": {},
     "output_type": "execute_result"
    }
   ],
   "source": [
    "# Check the SOURCE column\n",
    "gov_measures['SOURCE'].value_counts(dropna=False)"
   ]
  },
  {
   "cell_type": "code",
   "execution_count": 28,
   "metadata": {},
   "outputs": [],
   "source": [
    "# To correct the inconsistent values in source column converting the column values to lowercase\n",
    "gov_measures['SOURCE'] = gov_measures['SOURCE'].str.lower()"
   ]
  },
  {
   "cell_type": "code",
   "execution_count": 29,
   "metadata": {},
   "outputs": [],
   "source": [
    "# convert the column ISO to string datatype\n",
    "gov_measures['ISO'] = gov_measures['ISO'].astype('string')\n",
    "# convert the column COUNTRY to string datatype\n",
    "gov_measures['COUNTRY'] = gov_measures['COUNTRY'].astype('string')\n",
    "# convert the column REGION to string datatype\n",
    "gov_measures['REGION'] = gov_measures['REGION'].astype('string')\n",
    "# convert the column EXISTING_MEASURE_OR_NEW_MEASURE to string datatype\n",
    "gov_measures['EXISTING_MEASURE_OR_NEW_MEASURE'] = gov_measures['EXISTING_MEASURE_OR_NEW_MEASURE'].astype('string')\n",
    "# convert the column MEASURE to string datatype\n",
    "gov_measures['CATEGORY'] = gov_measures['CATEGORY'].astype('string')\n",
    "# convert the column MEASURE to string datatype\n",
    "gov_measures['MEASURE'] = gov_measures['MEASURE'].astype('string')\n",
    "# convert the column NON_COMPLIANCE to string datatype\n",
    "gov_measures['NON_COMPLIANCE'] = gov_measures['NON_COMPLIANCE'].astype('string')\n",
    "# convert the column SOURCE to string datatype\n",
    "gov_measures['SOURCE'] = gov_measures['SOURCE'].astype('string')"
   ]
  },
  {
   "cell_type": "code",
   "execution_count": 30,
   "metadata": {},
   "outputs": [
    {
     "data": {
      "text/plain": [
       "ISO                                   0\n",
       "COUNTRY                               0\n",
       "REGION                                0\n",
       "EXISTING_MEASURE_OR_NEW_MEASURE       0\n",
       "CATEGORY                              0\n",
       "MEASURE                               0\n",
       "NON_COMPLIANCE                     1159\n",
       "DATE_IMPLEMENTED                    293\n",
       "SOURCE                               11\n",
       "dtype: int64"
      ]
     },
     "execution_count": 30,
     "metadata": {},
     "output_type": "execute_result"
    }
   ],
   "source": [
    "# Final dataset all column null check\n",
    "gov_measures.isnull().sum()"
   ]
  },
  {
   "cell_type": "code",
   "execution_count": 31,
   "metadata": {},
   "outputs": [
    {
     "data": {
      "text/plain": [
       "Not applicable                  13256\n",
       "Not available                    3350\n",
       "Not Available                    1779\n",
       "Not Applicable                   1708\n",
       "NaN                              1159\n",
       "Fines                             748\n",
       "Refusal to Enter the Country      432\n",
       "Up to detention                   414\n",
       "Other (add in comments)           343\n",
       "Arrest/Detention                  235\n",
       "Refusal to enter the country      222\n",
       "fines                             114\n",
       "Legal action                       77\n",
       "not applicable                     24\n",
       "Other                              20\n",
       "Deportation                        10\n",
       "Up to Detention                     9\n",
       "Legal Action                        8\n",
       "not available                       7\n",
       "Not available                       6\n",
       "Legal                               2\n",
       "Name: NON_COMPLIANCE, dtype: Int64"
      ]
     },
     "execution_count": 31,
     "metadata": {},
     "output_type": "execute_result"
    }
   ],
   "source": [
    "# Check for the unique values in NON_COMPLIANCE column\n",
    "gov_measures.NON_COMPLIANCE.value_counts(dropna=False)"
   ]
  },
  {
   "cell_type": "code",
   "execution_count": 32,
   "metadata": {},
   "outputs": [],
   "source": [
    "# Correct the NaN values on the NON_COMPLIANCE column into 'non-specified'\n",
    "gov_measures['NON_COMPLIANCE'] = np.where(gov_measures['NON_COMPLIANCE'].isnull(),'non-specified',gov_measures['NON_COMPLIANCE'])"
   ]
  },
  {
   "cell_type": "code",
   "execution_count": 33,
   "metadata": {},
   "outputs": [
    {
     "data": {
      "text/plain": [
       "array(['non-specified', 'not applicable', 'not available',\n",
       "       'not available ', 'fines', 'up to detention',\n",
       "       'other (add in comments)', 'refusal to enter the country',\n",
       "       'arrest/detention', 'legal action', 'deportation', 'other',\n",
       "       'legal'], dtype=object)"
      ]
     },
     "execution_count": 33,
     "metadata": {},
     "output_type": "execute_result"
    }
   ],
   "source": [
    "# To address the inconsistent value issue. The values are converted to lower case\n",
    "gov_measures['NON_COMPLIANCE'] = gov_measures['NON_COMPLIANCE'].str.lower()\n",
    "# Check for the unique values in NON_COMPLIANCE column post value converted to lower case\n",
    "gov_measures.NON_COMPLIANCE.unique()"
   ]
  },
  {
   "cell_type": "code",
   "execution_count": 34,
   "metadata": {},
   "outputs": [
    {
     "name": "stdout",
     "output_type": "stream",
     "text": [
      "['legal']\n",
      "['not available ']\n",
      "['other (add in comments)']\n"
     ]
    }
   ],
   "source": [
    "# finding the best match from the rest of all values with a specific threshold 0.85 and can be lowered if there is no match found\n",
    "print(difflib.get_close_matches('legal action',set(gov_measures['NON_COMPLIANCE']).difference(['legal action']), n = 1,cutoff=0.55))\n",
    "print(difflib.get_close_matches('not available',set(gov_measures['NON_COMPLIANCE']).difference(['not available']), n = 1,cutoff=0.65))\n",
    "print(difflib.get_close_matches('other',set(gov_measures['NON_COMPLIANCE']).difference(['other']), n = 1,cutoff=0.25))"
   ]
  },
  {
   "cell_type": "code",
   "execution_count": 35,
   "metadata": {},
   "outputs": [],
   "source": [
    "# Few typos where discovered using the above code which are added to the below dictionary\n",
    "replace_dict = {'legal':'legal action', \n",
    "                'other':'other (add in comments)',\n",
    "                'not available ' : 'not available'}\n",
    "# Replace the values given in the dictionary\n",
    "gov_measures['NON_COMPLIANCE'].replace(replace_dict,inplace=True)"
   ]
  },
  {
   "cell_type": "code",
   "execution_count": 36,
   "metadata": {},
   "outputs": [
    {
     "data": {
      "text/plain": [
       "not applicable                  14988\n",
       "not available                    5142\n",
       "non-specified                    1159\n",
       "fines                             862\n",
       "refusal to enter the country      654\n",
       "up to detention                   423\n",
       "other (add in comments)           363\n",
       "arrest/detention                  235\n",
       "legal action                       87\n",
       "deportation                        10\n",
       "Name: NON_COMPLIANCE, dtype: int64"
      ]
     },
     "execution_count": 36,
     "metadata": {},
     "output_type": "execute_result"
    }
   ],
   "source": [
    "# Check for the unique values in NON_COMPLIANCE column\n",
    "gov_measures.NON_COMPLIANCE.value_counts(dropna=False)"
   ]
  },
  {
   "cell_type": "code",
   "execution_count": 37,
   "metadata": {},
   "outputs": [
    {
     "data": {
      "text/plain": [
       "Public health measures                    7954\n",
       "Social distancing                         5540\n",
       "Movement restrictions                     5159\n",
       "Governance and socio-economic measures    4364\n",
       "Lockdown                                   877\n",
       "Humanitarian exemption                      29\n",
       "Name: CATEGORY, dtype: Int64"
      ]
     },
     "execution_count": 37,
     "metadata": {},
     "output_type": "execute_result"
    }
   ],
   "source": [
    "# Check for the unique values in CATEGORY column\n",
    "gov_measures.CATEGORY.value_counts(dropna=False)"
   ]
  },
  {
   "cell_type": "code",
   "execution_count": 38,
   "metadata": {},
   "outputs": [
    {
     "data": {
      "text/plain": [
       "Economic measures                                               2980\n",
       "Closure of businesses and public services                       2298\n",
       "Limit public gatherings                                         2229\n",
       "Strengthening the public health system                          1850\n",
       "Isolation and quarantine policies                               1370\n",
       "Domestic travel restrictions                                    1018\n",
       "General recommendations                                          936\n",
       "Border closure                                                   896\n",
       "Other public health measures enforced                            894\n",
       "Schools closure                                                  873\n",
       "Curfews                                                          782\n",
       "Awareness campaigns                                              780\n",
       "International flights suspension                                 752\n",
       "Emergency administrative structures activated or established     733\n",
       "Requirement to wear protective gear in public                    715\n",
       "Partial lockdown                                                 703\n",
       "Testing policy                                                   599\n",
       "Visa restrictions                                                584\n",
       "Surveillance and monitoring                                      558\n",
       "State of emergency declared                                      470\n",
       "Health screenings in airports and border crossings               387\n",
       "Additional health/documents requirements upon arrival            386\n",
       "Full lockdown                                                    149\n",
       "Psychological assistance and medical social work                 143\n",
       "Mass population testing                                          141\n",
       "Changes in prison-related policies                               140\n",
       "Amendments to funeral and burial regulations                     136\n",
       "Military deployment                                              112\n",
       "Border checks                                                    106\n",
       "Checkpoints within the country                                    69\n",
       "Limit product imports/exports                                     69\n",
       "Humanitarian exemptions                                           29\n",
       "Lockdown of refugee/idp camps or other minorities                 25\n",
       "Complete border closure                                            8\n",
       "Obligatory medical tests not related to COVID-19                   3\n",
       "Name: MEASURE, dtype: Int64"
      ]
     },
     "execution_count": 38,
     "metadata": {},
     "output_type": "execute_result"
    }
   ],
   "source": [
    "# Check for the unique values in MEASURE column\n",
    "gov_measures.MEASURE.value_counts(dropna=False)"
   ]
  },
  {
   "cell_type": "code",
   "execution_count": 39,
   "metadata": {},
   "outputs": [],
   "source": [
    "# Correct the 'non-specified' values on the NON_COMPLIANCE column into NaN\n",
    "gov_measures['NON_COMPLIANCE'] = np.where(gov_measures['NON_COMPLIANCE']=='non-specified',None,gov_measures['NON_COMPLIANCE'])"
   ]
  },
  {
   "cell_type": "code",
   "execution_count": 40,
   "metadata": {},
   "outputs": [],
   "source": [
    "# Checking the Distribution of values\n",
    "#test = gov_measures.groupby(['CATEGORY','MEASURE','NON_COMPLIANCE']).size().reset_index().rename(columns={0:'count'})"
   ]
  },
  {
   "cell_type": "code",
   "execution_count": 41,
   "metadata": {},
   "outputs": [
    {
     "data": {
      "text/plain": [
       "1159"
      ]
     },
     "execution_count": 41,
     "metadata": {},
     "output_type": "execute_result"
    }
   ],
   "source": [
    "# check of missing values in column NON_COMPLIANCE\n",
    "gov_measures['NON_COMPLIANCE'].isnull().sum()"
   ]
  },
  {
   "cell_type": "code",
   "execution_count": 42,
   "metadata": {},
   "outputs": [],
   "source": [
    "# grouping based on CATEGORY, MEASURE and NON_COMPLIANCE\n",
    "groups = gov_measures.groupby(['CATEGORY','MEASURE'])"
   ]
  },
  {
   "cell_type": "code",
   "execution_count": 43,
   "metadata": {},
   "outputs": [],
   "source": [
    "# all the rows within a group is NaN\n",
    "all_na = groups['NON_COMPLIANCE'].transform(lambda x: x.isna().all())"
   ]
  },
  {
   "cell_type": "code",
   "execution_count": 44,
   "metadata": {},
   "outputs": [],
   "source": [
    "# fill global mode\n",
    "gov_measures.loc[all_na, 'NON_COMPLIANCE'] = gov_measures['NON_COMPLIANCE'].mode()[0]"
   ]
  },
  {
   "cell_type": "code",
   "execution_count": 45,
   "metadata": {},
   "outputs": [],
   "source": [
    "# fill with local mode\n",
    "mode_by_group = groups['NON_COMPLIANCE'].transform(lambda x: x.mode()[0])\n",
    "gov_measures['NON_COMPLIANCE'] = gov_measures['NON_COMPLIANCE'].fillna(mode_by_group)"
   ]
  },
  {
   "cell_type": "code",
   "execution_count": 46,
   "metadata": {},
   "outputs": [
    {
     "data": {
      "text/plain": [
       "ISO                                  0\n",
       "COUNTRY                              0\n",
       "REGION                               0\n",
       "EXISTING_MEASURE_OR_NEW_MEASURE      0\n",
       "CATEGORY                             0\n",
       "MEASURE                              0\n",
       "NON_COMPLIANCE                       0\n",
       "DATE_IMPLEMENTED                   293\n",
       "SOURCE                              11\n",
       "dtype: int64"
      ]
     },
     "execution_count": 46,
     "metadata": {},
     "output_type": "execute_result"
    }
   ],
   "source": [
    "# Check the null values in the df \n",
    "gov_measures.isnull().sum()"
   ]
  },
  {
   "cell_type": "code",
   "execution_count": 47,
   "metadata": {},
   "outputs": [
    {
     "data": {
      "text/plain": [
       "government             15624\n",
       "media                   5704\n",
       "other organisations     1886\n",
       "social media             555\n",
       "un                       107\n",
       "other                     36\n",
       "NaN                       11\n",
       "Name: SOURCE, dtype: Int64"
      ]
     },
     "execution_count": 47,
     "metadata": {},
     "output_type": "execute_result"
    }
   ],
   "source": [
    "# Check for missing values in column SOURCE\n",
    "gov_measures['SOURCE'].value_counts(dropna=False)"
   ]
  },
  {
   "cell_type": "code",
   "execution_count": 48,
   "metadata": {},
   "outputs": [],
   "source": [
    "# Drop the records having missing values\n",
    "gov_measures = gov_measures[gov_measures['SOURCE'].notna()]"
   ]
  },
  {
   "cell_type": "code",
   "execution_count": 49,
   "metadata": {},
   "outputs": [
    {
     "data": {
      "text/plain": [
       "government             15624\n",
       "media                   5704\n",
       "other organisations     1886\n",
       "social media             555\n",
       "un                       107\n",
       "other                     36\n",
       "Name: SOURCE, dtype: Int64"
      ]
     },
     "execution_count": 49,
     "metadata": {},
     "output_type": "execute_result"
    }
   ],
   "source": [
    "# Check for missing values again in column post the dropna function implementation\n",
    "gov_measures['SOURCE'].value_counts(dropna=False)"
   ]
  },
  {
   "cell_type": "code",
   "execution_count": 50,
   "metadata": {},
   "outputs": [
    {
     "data": {
      "text/plain": [
       "2020-03-16    342\n",
       "2020-05-11    336\n",
       "NaT           289\n",
       "2020-03-20    282\n",
       "2020-06-01    279\n",
       "             ... \n",
       "2020-01-06      1\n",
       "2020-12-16      1\n",
       "2021-01-15      1\n",
       "2021-01-04      1\n",
       "2020-12-15      1\n",
       "Name: DATE_IMPLEMENTED, Length: 353, dtype: int64"
      ]
     },
     "execution_count": 50,
     "metadata": {},
     "output_type": "execute_result"
    }
   ],
   "source": [
    "# Check for missing values in column DATE_IMPLEMENTED\n",
    "gov_measures['DATE_IMPLEMENTED'].value_counts(dropna=False)"
   ]
  },
  {
   "cell_type": "code",
   "execution_count": 51,
   "metadata": {},
   "outputs": [],
   "source": [
    "# Drop the records having missing values\n",
    "gov_measures = gov_measures[gov_measures['DATE_IMPLEMENTED'].notna()]"
   ]
  },
  {
   "cell_type": "code",
   "execution_count": 52,
   "metadata": {},
   "outputs": [
    {
     "data": {
      "text/plain": [
       "2020-03-16    342\n",
       "2020-05-11    336\n",
       "2020-03-20    282\n",
       "2020-06-01    279\n",
       "2020-05-18    270\n",
       "             ... \n",
       "2020-01-06      1\n",
       "2020-12-16      1\n",
       "2021-01-15      1\n",
       "2021-01-04      1\n",
       "2020-12-15      1\n",
       "Name: DATE_IMPLEMENTED, Length: 352, dtype: int64"
      ]
     },
     "execution_count": 52,
     "metadata": {},
     "output_type": "execute_result"
    }
   ],
   "source": [
    "# Check for missing values again in column post the dropna function implementation\n",
    "gov_measures['DATE_IMPLEMENTED'].value_counts(dropna=False)"
   ]
  },
  {
   "cell_type": "code",
   "execution_count": 53,
   "metadata": {},
   "outputs": [],
   "source": [
    "#Converting the data field from format YYYY-MM-DD to YYYY-MM\n",
    "gov_measures['DATE_IMPLEMENTED'] = gov_measures['DATE_IMPLEMENTED'].dt.to_period('M')"
   ]
  },
  {
   "cell_type": "code",
   "execution_count": 54,
   "metadata": {},
   "outputs": [
    {
     "data": {
      "text/plain": [
       "government             15427\n",
       "media                   5661\n",
       "other organisations     1840\n",
       "social media             554\n",
       "un                       107\n",
       "other                     34\n",
       "Name: SOURCE, dtype: Int64"
      ]
     },
     "execution_count": 54,
     "metadata": {},
     "output_type": "execute_result"
    }
   ],
   "source": [
    "# Check for missing values again in column post the dropna function implementation\n",
    "gov_measures['SOURCE'].value_counts(dropna=False)"
   ]
  },
  {
   "cell_type": "code",
   "execution_count": 55,
   "metadata": {},
   "outputs": [],
   "source": [
    "# Dropping the source column since it is not useful for our analysis\n",
    "gov_measures.drop('SOURCE', inplace=True, axis=1)"
   ]
  },
  {
   "cell_type": "code",
   "execution_count": 56,
   "metadata": {},
   "outputs": [],
   "source": [
    "# Dropping the 'EXISTING_MEASURE_OR_NEW_MEASURE' column since it is not useful for our analysis\n",
    "gov_measures.drop('EXISTING_MEASURE_OR_NEW_MEASURE', inplace=True, axis=1)"
   ]
  },
  {
   "cell_type": "code",
   "execution_count": 57,
   "metadata": {},
   "outputs": [],
   "source": [
    "# Dropping the 'NON_COMPLIANCE' column since we have location column\n",
    "gov_measures.drop('NON_COMPLIANCE', inplace=True, axis=1)"
   ]
  },
  {
   "cell_type": "markdown",
   "metadata": {},
   "source": [
    "#### Filter g20 countries"
   ]
  },
  {
   "cell_type": "code",
   "execution_count": 58,
   "metadata": {},
   "outputs": [],
   "source": [
    "g20_countries = ['Argentina', 'Australia', 'Brazil', 'Canada', 'China', 'Germany', 'France',\n",
    "                 'India', 'Indonesia', 'Italy', 'Japan', 'Mexico', 'Russia', 'Saudi Arabia', \n",
    "                 'South Africa', 'South Korea', 'Turkey', 'United Kingdom' ,'United States']"
   ]
  },
  {
   "cell_type": "code",
   "execution_count": 59,
   "metadata": {},
   "outputs": [],
   "source": [
    "gov_measures_subset = gov_measures[gov_measures['COUNTRY'].isin(g20_countries)]"
   ]
  },
  {
   "cell_type": "code",
   "execution_count": 60,
   "metadata": {},
   "outputs": [
    {
     "name": "stderr",
     "output_type": "stream",
     "text": [
      "<ipython-input-60-4c88f7254a50>:1: SettingWithCopyWarning: \n",
      "A value is trying to be set on a copy of a slice from a DataFrame.\n",
      "Try using .loc[row_indexer,col_indexer] = value instead\n",
      "\n",
      "See the caveats in the documentation: https://pandas.pydata.org/pandas-docs/stable/user_guide/indexing.html#returning-a-view-versus-a-copy\n",
      "  gov_measures_subset['COUNTRY']=gov_measures_subset['COUNTRY'].str.strip()\n"
     ]
    }
   ],
   "source": [
    "gov_measures_subset['COUNTRY']=gov_measures_subset['COUNTRY'].str.strip()"
   ]
  },
  {
   "cell_type": "code",
   "execution_count": 61,
   "metadata": {},
   "outputs": [
    {
     "data": {
      "text/plain": [
       "ISO                 0\n",
       "COUNTRY             0\n",
       "REGION              0\n",
       "CATEGORY            0\n",
       "MEASURE             0\n",
       "DATE_IMPLEMENTED    0\n",
       "dtype: int64"
      ]
     },
     "execution_count": 61,
     "metadata": {},
     "output_type": "execute_result"
    }
   ],
   "source": [
    "# Check the null values in the df \n",
    "gov_measures_subset.isnull().sum()"
   ]
  },
  {
   "cell_type": "code",
   "execution_count": 62,
   "metadata": {},
   "outputs": [
    {
     "name": "stdout",
     "output_type": "stream",
     "text": [
      "<class 'pandas.core.frame.DataFrame'>\n",
      "Int64Index: 3946 entries, 660 to 23362\n",
      "Data columns (total 6 columns):\n",
      " #   Column            Non-Null Count  Dtype    \n",
      "---  ------            --------------  -----    \n",
      " 0   ISO               3946 non-null   string   \n",
      " 1   COUNTRY           3946 non-null   string   \n",
      " 2   REGION            3946 non-null   string   \n",
      " 3   CATEGORY          3946 non-null   string   \n",
      " 4   MEASURE           3946 non-null   string   \n",
      " 5   DATE_IMPLEMENTED  3946 non-null   period[M]\n",
      "dtypes: period[M](1), string(5)\n",
      "memory usage: 215.8 KB\n"
     ]
    }
   ],
   "source": [
    "# Final cleaned dataframe\n",
    "gov_measures_subset.info()"
   ]
  },
  {
   "cell_type": "code",
   "execution_count": 63,
   "metadata": {},
   "outputs": [
    {
     "name": "stderr",
     "output_type": "stream",
     "text": [
      "<ipython-input-63-db7fab7aabf5>:2: SettingWithCopyWarning: \n",
      "A value is trying to be set on a copy of a slice from a DataFrame\n",
      "\n",
      "See the caveats in the documentation: https://pandas.pydata.org/pandas-docs/stable/user_guide/indexing.html#returning-a-view-versus-a-copy\n",
      "  gov_measures_subset.rename(columns = {'CATEGORY':'MAIN_MEASURES'}, inplace = True)\n"
     ]
    }
   ],
   "source": [
    "#Rename the CATEGORY column to MAIN_MEASURES gov_measures_subset\n",
    "gov_measures_subset.rename(columns = {'CATEGORY':'MAIN_MEASURES'}, inplace = True)"
   ]
  },
  {
   "cell_type": "code",
   "execution_count": 64,
   "metadata": {},
   "outputs": [
    {
     "name": "stderr",
     "output_type": "stream",
     "text": [
      "<ipython-input-64-0889f4baa44c>:2: SettingWithCopyWarning: \n",
      "A value is trying to be set on a copy of a slice from a DataFrame\n",
      "\n",
      "See the caveats in the documentation: https://pandas.pydata.org/pandas-docs/stable/user_guide/indexing.html#returning-a-view-versus-a-copy\n",
      "  gov_measures_subset.rename(columns = {'MEASURE':'STEPS_TAKEN'}, inplace = True)\n"
     ]
    }
   ],
   "source": [
    "#Rename the MEASURES column to STEPS_TAKEN gov_measures_subset\n",
    "gov_measures_subset.rename(columns = {'MEASURE':'STEPS_TAKEN'}, inplace = True)"
   ]
  },
  {
   "cell_type": "code",
   "execution_count": 65,
   "metadata": {},
   "outputs": [
    {
     "name": "stderr",
     "output_type": "stream",
     "text": [
      "<ipython-input-65-97a13e510ef8>:3: SettingWithCopyWarning: \n",
      "A value is trying to be set on a copy of a slice from a DataFrame\n",
      "\n",
      "See the caveats in the documentation: https://pandas.pydata.org/pandas-docs/stable/user_guide/indexing.html#returning-a-view-versus-a-copy\n",
      "  gov_measures_subset['REGION'].replace(replace_dict,inplace=True)\n"
     ]
    },
    {
     "data": {
      "text/plain": [
       "Europe           1415\n",
       "South America    1174\n",
       "Asia              710\n",
       "Oceania           554\n",
       "Africa             93\n",
       "Name: REGION, dtype: int64"
      ]
     },
     "execution_count": 65,
     "metadata": {},
     "output_type": "execute_result"
    }
   ],
   "source": [
    "#renaming the REGION to be uniform across all data sets\n",
    "replace_dict = {'Americas':'South America', 'Middle east':'Asia', 'Pacific':'Oceania'}\n",
    "gov_measures_subset['REGION'].replace(replace_dict,inplace=True)\n",
    "gov_measures_subset['REGION'].value_counts()"
   ]
  },
  {
   "cell_type": "code",
   "execution_count": 66,
   "metadata": {},
   "outputs": [
    {
     "name": "stderr",
     "output_type": "stream",
     "text": [
      "<ipython-input-66-3369c0b9b2df>:1: SettingWithCopyWarning: \n",
      "A value is trying to be set on a copy of a slice from a DataFrame.\n",
      "Try using .loc[row_indexer,col_indexer] = value instead\n",
      "\n",
      "See the caveats in the documentation: https://pandas.pydata.org/pandas-docs/stable/user_guide/indexing.html#returning-a-view-versus-a-copy\n",
      "  gov_measures_subset.loc[gov_measures_subset['COUNTRY'] == 'Canada', \"REGION\"] = \"North America\"\n",
      "<ipython-input-66-3369c0b9b2df>:2: SettingWithCopyWarning: \n",
      "A value is trying to be set on a copy of a slice from a DataFrame.\n",
      "Try using .loc[row_indexer,col_indexer] = value instead\n",
      "\n",
      "See the caveats in the documentation: https://pandas.pydata.org/pandas-docs/stable/user_guide/indexing.html#returning-a-view-versus-a-copy\n",
      "  gov_measures_subset.loc[gov_measures_subset['COUNTRY'] == 'United States', \"REGION\"] = \"North America\"\n",
      "<ipython-input-66-3369c0b9b2df>:3: SettingWithCopyWarning: \n",
      "A value is trying to be set on a copy of a slice from a DataFrame.\n",
      "Try using .loc[row_indexer,col_indexer] = value instead\n",
      "\n",
      "See the caveats in the documentation: https://pandas.pydata.org/pandas-docs/stable/user_guide/indexing.html#returning-a-view-versus-a-copy\n",
      "  gov_measures_subset.loc[gov_measures_subset['COUNTRY'] == 'Mexico', \"REGION\"] = \"North America\"\n"
     ]
    }
   ],
   "source": [
    "gov_measures_subset.loc[gov_measures_subset['COUNTRY'] == 'Canada', \"REGION\"] = \"North America\"\n",
    "gov_measures_subset.loc[gov_measures_subset['COUNTRY'] == 'United States', \"REGION\"] = \"North America\"\n",
    "gov_measures_subset.loc[gov_measures_subset['COUNTRY'] == 'Mexico', \"REGION\"] = \"North America\""
   ]
  },
  {
   "cell_type": "code",
   "execution_count": 67,
   "metadata": {},
   "outputs": [],
   "source": [
    "# Drop duplicate records from final dataset\n",
    "gov_measures_subset = gov_measures_subset.drop_duplicates(subset=None, keep = 'first')"
   ]
  },
  {
   "cell_type": "code",
   "execution_count": 68,
   "metadata": {},
   "outputs": [
    {
     "data": {
      "text/html": [
       "<div>\n",
       "<style scoped>\n",
       "    .dataframe tbody tr th:only-of-type {\n",
       "        vertical-align: middle;\n",
       "    }\n",
       "\n",
       "    .dataframe tbody tr th {\n",
       "        vertical-align: top;\n",
       "    }\n",
       "\n",
       "    .dataframe thead th {\n",
       "        text-align: right;\n",
       "    }\n",
       "</style>\n",
       "<table border=\"1\" class=\"dataframe\">\n",
       "  <thead>\n",
       "    <tr style=\"text-align: right;\">\n",
       "      <th></th>\n",
       "      <th>ISO</th>\n",
       "      <th>COUNTRY</th>\n",
       "      <th>REGION</th>\n",
       "      <th>MAIN_MEASURES</th>\n",
       "      <th>STEPS_TAKEN</th>\n",
       "      <th>DATE_IMPLEMENTED</th>\n",
       "    </tr>\n",
       "  </thead>\n",
       "  <tbody>\n",
       "    <tr>\n",
       "      <th>660</th>\n",
       "      <td>ARG</td>\n",
       "      <td>Argentina</td>\n",
       "      <td>South America</td>\n",
       "      <td>Public health measures</td>\n",
       "      <td>Awareness campaigns</td>\n",
       "      <td>2020-02</td>\n",
       "    </tr>\n",
       "    <tr>\n",
       "      <th>661</th>\n",
       "      <td>ARG</td>\n",
       "      <td>Argentina</td>\n",
       "      <td>South America</td>\n",
       "      <td>Movement restrictions</td>\n",
       "      <td>Visa restrictions</td>\n",
       "      <td>2020-03</td>\n",
       "    </tr>\n",
       "    <tr>\n",
       "      <th>662</th>\n",
       "      <td>ARG</td>\n",
       "      <td>Argentina</td>\n",
       "      <td>South America</td>\n",
       "      <td>Movement restrictions</td>\n",
       "      <td>International flights suspension</td>\n",
       "      <td>2020-03</td>\n",
       "    </tr>\n",
       "    <tr>\n",
       "      <th>663</th>\n",
       "      <td>ARG</td>\n",
       "      <td>Argentina</td>\n",
       "      <td>South America</td>\n",
       "      <td>Public health measures</td>\n",
       "      <td>Isolation and quarantine policies</td>\n",
       "      <td>2020-03</td>\n",
       "    </tr>\n",
       "    <tr>\n",
       "      <th>664</th>\n",
       "      <td>ARG</td>\n",
       "      <td>Argentina</td>\n",
       "      <td>South America</td>\n",
       "      <td>Social distancing</td>\n",
       "      <td>Limit public gatherings</td>\n",
       "      <td>2020-03</td>\n",
       "    </tr>\n",
       "    <tr>\n",
       "      <th>...</th>\n",
       "      <td>...</td>\n",
       "      <td>...</td>\n",
       "      <td>...</td>\n",
       "      <td>...</td>\n",
       "      <td>...</td>\n",
       "      <td>...</td>\n",
       "    </tr>\n",
       "    <tr>\n",
       "      <th>23330</th>\n",
       "      <td>USA</td>\n",
       "      <td>United States</td>\n",
       "      <td>North America</td>\n",
       "      <td>Public health measures</td>\n",
       "      <td>Other public health measures enforced</td>\n",
       "      <td>2020-11</td>\n",
       "    </tr>\n",
       "    <tr>\n",
       "      <th>23349</th>\n",
       "      <td>USA</td>\n",
       "      <td>United States</td>\n",
       "      <td>North America</td>\n",
       "      <td>Public health measures</td>\n",
       "      <td>Strengthening the public health system</td>\n",
       "      <td>2020-12</td>\n",
       "    </tr>\n",
       "    <tr>\n",
       "      <th>23351</th>\n",
       "      <td>USA</td>\n",
       "      <td>United States</td>\n",
       "      <td>North America</td>\n",
       "      <td>Public health measures</td>\n",
       "      <td>General recommendations</td>\n",
       "      <td>2020-12</td>\n",
       "    </tr>\n",
       "    <tr>\n",
       "      <th>23352</th>\n",
       "      <td>USA</td>\n",
       "      <td>United States</td>\n",
       "      <td>North America</td>\n",
       "      <td>Governance and socio-economic measures</td>\n",
       "      <td>Economic measures</td>\n",
       "      <td>2020-12</td>\n",
       "    </tr>\n",
       "    <tr>\n",
       "      <th>23358</th>\n",
       "      <td>USA</td>\n",
       "      <td>United States</td>\n",
       "      <td>North America</td>\n",
       "      <td>Governance and socio-economic measures</td>\n",
       "      <td>Emergency administrative structures activated ...</td>\n",
       "      <td>2020-12</td>\n",
       "    </tr>\n",
       "  </tbody>\n",
       "</table>\n",
       "<p>1421 rows × 6 columns</p>\n",
       "</div>"
      ],
      "text/plain": [
       "       ISO        COUNTRY         REGION  \\\n",
       "660    ARG      Argentina  South America   \n",
       "661    ARG      Argentina  South America   \n",
       "662    ARG      Argentina  South America   \n",
       "663    ARG      Argentina  South America   \n",
       "664    ARG      Argentina  South America   \n",
       "...    ...            ...            ...   \n",
       "23330  USA  United States  North America   \n",
       "23349  USA  United States  North America   \n",
       "23351  USA  United States  North America   \n",
       "23352  USA  United States  North America   \n",
       "23358  USA  United States  North America   \n",
       "\n",
       "                                MAIN_MEASURES  \\\n",
       "660                    Public health measures   \n",
       "661                     Movement restrictions   \n",
       "662                     Movement restrictions   \n",
       "663                    Public health measures   \n",
       "664                         Social distancing   \n",
       "...                                       ...   \n",
       "23330                  Public health measures   \n",
       "23349                  Public health measures   \n",
       "23351                  Public health measures   \n",
       "23352  Governance and socio-economic measures   \n",
       "23358  Governance and socio-economic measures   \n",
       "\n",
       "                                             STEPS_TAKEN DATE_IMPLEMENTED  \n",
       "660                                  Awareness campaigns          2020-02  \n",
       "661                                    Visa restrictions          2020-03  \n",
       "662                     International flights suspension          2020-03  \n",
       "663                    Isolation and quarantine policies          2020-03  \n",
       "664                              Limit public gatherings          2020-03  \n",
       "...                                                  ...              ...  \n",
       "23330              Other public health measures enforced          2020-11  \n",
       "23349             Strengthening the public health system          2020-12  \n",
       "23351                            General recommendations          2020-12  \n",
       "23352                                  Economic measures          2020-12  \n",
       "23358  Emergency administrative structures activated ...          2020-12  \n",
       "\n",
       "[1421 rows x 6 columns]"
      ]
     },
     "execution_count": 68,
     "metadata": {},
     "output_type": "execute_result"
    }
   ],
   "source": [
    "gov_measures_subset"
   ]
  },
  {
   "cell_type": "code",
   "execution_count": 69,
   "metadata": {},
   "outputs": [],
   "source": [
    "# Writing the clean dataframe to csv file\n",
    "gov_measures_subset.to_csv('../cleaned_csv/cleaned_gov_measured.csv', index=False)"
   ]
  }
 ],
 "metadata": {
  "kernelspec": {
   "display_name": "Python 3",
   "language": "python",
   "name": "python3"
  },
  "language_info": {
   "codemirror_mode": {
    "name": "ipython",
    "version": 3
   },
   "file_extension": ".py",
   "mimetype": "text/x-python",
   "name": "python",
   "nbconvert_exporter": "python",
   "pygments_lexer": "ipython3",
   "version": "3.8.5"
  }
 },
 "nbformat": 4,
 "nbformat_minor": 4
}
