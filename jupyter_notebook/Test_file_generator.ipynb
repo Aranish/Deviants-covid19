{
 "cells": [
  {
   "cell_type": "markdown",
   "metadata": {},
   "source": [
    "## Test File Generation"
   ]
  },
  {
   "cell_type": "code",
   "execution_count": 1,
   "metadata": {},
   "outputs": [],
   "source": [
    "## Required packages loaded\n",
    "import pandas as pd\n",
    "import numpy as np\n",
    "import re\n",
    "import difflib"
   ]
  },
  {
   "cell_type": "code",
   "execution_count": 2,
   "metadata": {},
   "outputs": [],
   "source": [
    "a_file = open('../NN_modelling_results_per_country/United_Kingdom_Modeling_result')\n",
    "\n",
    "lines_to_read = [0, 3]\n",
    "\n",
    "for position, line in enumerate(a_file):\n",
    "    if position in lines_to_read:\n",
    "        x = line"
   ]
  },
  {
   "cell_type": "code",
   "execution_count": 3,
   "metadata": {},
   "outputs": [
    {
     "data": {
      "text/plain": [
       "['United States']"
      ]
     },
     "execution_count": 3,
     "metadata": {},
     "output_type": "execute_result"
    }
   ],
   "source": [
    "#sub_match = re.findall(r\"\\'.*)-\",x)\n",
    "#sub_match = str(sub_match)\n",
    "#country_name = re.findall(r\"'.*'\",x)\n",
    "country_name = re.findall(r'\\\"(.+?)\\\"',x)\n",
    "country_name"
   ]
  },
  {
   "cell_type": "code",
   "execution_count": 4,
   "metadata": {},
   "outputs": [],
   "source": [
    "for i, e in enumerate(country_name):\n",
    "    country_name[i] = e.replace(\"'\", \"\")"
   ]
  },
  {
   "cell_type": "code",
   "execution_count": 5,
   "metadata": {},
   "outputs": [],
   "source": [
    "for i in country_name:\n",
    "    CountryName = i"
   ]
  },
  {
   "cell_type": "code",
   "execution_count": 6,
   "metadata": {},
   "outputs": [
    {
     "data": {
      "text/plain": [
       "'United States'"
      ]
     },
     "execution_count": 6,
     "metadata": {},
     "output_type": "execute_result"
    }
   ],
   "source": [
    "CountryName"
   ]
  },
  {
   "cell_type": "code",
   "execution_count": 7,
   "metadata": {},
   "outputs": [],
   "source": [
    "cm = []\n",
    "\n",
    "file = open(\"../NN_modelling_results_per_country/United_Kingdom_Modeling_result\", 'r')\n",
    "\n",
    "content = file.readlines()\n",
    "\n",
    "string_val = '=== Confusion Matrix ==='\n",
    "line_num = 0\n",
    "\n",
    "for line in content:\n",
    "    line_num += 1\n",
    "    if string_val in line:\n",
    "        line_number = line_num"
   ]
  },
  {
   "cell_type": "code",
   "execution_count": 8,
   "metadata": {},
   "outputs": [
    {
     "name": "stdout",
     "output_type": "stream",
     "text": [
      "\n",
      "\n",
      "  a  b  c  d  e  f   <-- classified as\n",
      "\n",
      " 18  1  1  0  0  0 |  a = Public health measures\n",
      "\n",
      "  0  7  0  0  0  0 |  b = Movement restrictions\n",
      "\n",
      "  0  0  2  0  0  0 |  c = Social distancing\n",
      "\n",
      "  0  0  0  0  0  0 |  d = Lockdown\n",
      "\n",
      "  0  0  0  0 11  0 |  e = Governance and socio-economic measures\n",
      "\n",
      "  0  0  0  0  0  0 |  f = Humanitarian exemption\n",
      "\n",
      "\n",
      "\n"
     ]
    }
   ],
   "source": [
    "a_file = open(\"../NN_modelling_results_per_country/United_Kingdom_Modeling_result\",\"r\")\n",
    "\n",
    "lines_to_read=a_file.readlines()[line_number:]\n",
    "\n",
    "for line in lines_to_read:\n",
    "    print(line)\n",
    "    cm.append(line)"
   ]
  },
  {
   "cell_type": "code",
   "execution_count": 9,
   "metadata": {},
   "outputs": [],
   "source": [
    "tmp = []\n",
    "\n",
    "for i in cm:\n",
    "    data = i.split(\"|\")\n",
    "    tmp.append(data)"
   ]
  },
  {
   "cell_type": "code",
   "execution_count": 10,
   "metadata": {},
   "outputs": [],
   "source": [
    "for j in tmp:\n",
    "    if j == ['\\n']:\n",
    "        tmp.remove(j)"
   ]
  },
  {
   "cell_type": "code",
   "execution_count": 11,
   "metadata": {},
   "outputs": [],
   "source": [
    "temp=[]\n",
    "for j in tmp[0]:\n",
    "    data1 = j.split(\"<\")\n",
    "    temp.append(data1)"
   ]
  },
  {
   "cell_type": "code",
   "execution_count": 12,
   "metadata": {},
   "outputs": [],
   "source": [
    "header = []\n",
    "\n",
    "for i in temp[0][0]:\n",
    "    if i != ' ':\n",
    "        header.append(i)\n",
    "    \n",
    "feature_count = len(header)"
   ]
  },
  {
   "cell_type": "code",
   "execution_count": 13,
   "metadata": {},
   "outputs": [],
   "source": [
    "feature_1 = []\n",
    "feature_2 = []\n",
    "feature_3 = []\n",
    "feature_4 = []\n",
    "feature_5 = []\n",
    "feature_6 = []\n",
    "\n",
    "sub_data = '|'\n",
    "\n",
    "k=1\n",
    "\n",
    "while (k <= feature_count):\n",
    "\n",
    "    for item in tmp[k][0]:\n",
    "        if item != ' ':\n",
    "            sub_data = str(sub_data) + str(item)\n",
    "        else:\n",
    "            if k == 1: \n",
    "                feature_1.append(sub_data)\n",
    "                sub_data = ''\n",
    "            elif k == 2:\n",
    "                feature_2.append(sub_data)\n",
    "                sub_data = ''\n",
    "            elif k == 3:\n",
    "                feature_3.append(sub_data)\n",
    "                sub_data = ''\n",
    "            elif k == 4:\n",
    "                feature_4.append(sub_data)\n",
    "                sub_data = ''\n",
    "            elif k == 5:\n",
    "                feature_5.append(sub_data)\n",
    "                sub_data = ''\n",
    "            else:\n",
    "                feature_6.append(sub_data)\n",
    "                sub_data = ''\n",
    "            \n",
    "    if k == 1: \n",
    "        for m in feature_1:\n",
    "            if m == '|':\n",
    "                feature_1.remove(m)\n",
    "    elif k == 2: \n",
    "        for m in feature_2:\n",
    "            if m == '|':\n",
    "                feature_2.remove(m) \n",
    "    elif k == 3: \n",
    "        for m in feature_3:\n",
    "            if m == '|':\n",
    "                feature_3.remove(m) \n",
    "    elif k == 4: \n",
    "        for m in feature_4:\n",
    "            if m == '|':\n",
    "                feature_4.remove(m) \n",
    "    elif k == 5: \n",
    "        for m in feature_5:\n",
    "            if m == '|':\n",
    "                feature_5.remove(m) \n",
    "    else: \n",
    "        for m in feature_6:\n",
    "            if m == '|':\n",
    "                feature_6.remove(m) \n",
    "\n",
    "    if k == 1: \n",
    "        for m in feature_1:\n",
    "            if m == '':\n",
    "                feature_1.remove(m)\n",
    "    elif k == 2: \n",
    "        for m in feature_2:\n",
    "            if m == '':\n",
    "                feature_2.remove(m) \n",
    "    elif k == 3: \n",
    "        for m in feature_3:\n",
    "            if m == '':\n",
    "                feature_3.remove(m) \n",
    "    elif k == 4: \n",
    "        for m in feature_4:\n",
    "            if m == '':\n",
    "                feature_4.remove(m) \n",
    "    elif k == 5: \n",
    "        for m in feature_5:\n",
    "            if m == '':\n",
    "                feature_5.remove(m) \n",
    "    else: \n",
    "        for m in feature_6:\n",
    "            if m == '':\n",
    "                feature_6.remove(m) \n",
    "                \n",
    "    k+=1"
   ]
  },
  {
   "cell_type": "code",
   "execution_count": 14,
   "metadata": {},
   "outputs": [],
   "source": [
    "k=1\n",
    "\n",
    "while (k <= feature_count):\n",
    "    if k == 1: \n",
    "        for m in feature_1:\n",
    "            if m == '':\n",
    "                feature_1.remove(m)\n",
    "    elif k == 2: \n",
    "        for m in feature_2:\n",
    "            if m == '':\n",
    "                feature_2.remove(m) \n",
    "    elif k == 3: \n",
    "        for m in feature_3:\n",
    "            if m == '':\n",
    "                feature_3.remove(m) \n",
    "    elif k == 4: \n",
    "        for m in feature_4:\n",
    "            if m == '':\n",
    "                feature_4.remove(m) \n",
    "    elif k == 5: \n",
    "        for m in feature_5:\n",
    "            if m == '':\n",
    "                feature_5.remove(m) \n",
    "    else: \n",
    "        for m in feature_6:\n",
    "            if m == '':\n",
    "                feature_6.remove(m) \n",
    "    k+=1"
   ]
  },
  {
   "cell_type": "code",
   "execution_count": 15,
   "metadata": {},
   "outputs": [
    {
     "name": "stdout",
     "output_type": "stream",
     "text": [
      "['18', '1', '1', '0', '0', '0']\n",
      "['0', '7', '0', '0', '0', '0']\n",
      "['0', '0', '2', '0', '0', '0']\n",
      "['0', '0', '0', '0', '0', '0']\n",
      "['0', '0', '0', '0', '11', '0']\n",
      "['0', '0', '0', '0', '0', '0']\n"
     ]
    }
   ],
   "source": [
    "print(feature_1)\n",
    "print(feature_2)\n",
    "print(feature_3)\n",
    "print(feature_4)\n",
    "print(feature_5)\n",
    "print(feature_6)"
   ]
  },
  {
   "cell_type": "code",
   "execution_count": 16,
   "metadata": {},
   "outputs": [
    {
     "data": {
      "text/plain": [
       "[18, 8, 3, 0, 11, 0]"
      ]
     },
     "execution_count": 16,
     "metadata": {},
     "output_type": "execute_result"
    }
   ],
   "source": [
    "k=0\n",
    "\n",
    "total_count_of_each_feature = []\n",
    "\n",
    "while (k < feature_count):\n",
    "    sum_val = int(feature_1[k])+int(feature_2[k])+int(feature_3[k])+int(feature_4[k])+int(feature_5[k])+int(feature_6[k])\n",
    "    total_count_of_each_feature.append(sum_val)\n",
    "    k+=1\n",
    "    \n",
    "total_count_of_each_feature"
   ]
  },
  {
   "cell_type": "code",
   "execution_count": 17,
   "metadata": {},
   "outputs": [
    {
     "data": {
      "text/plain": [
       "['Public health measures',\n",
       " 'Movement restrictions',\n",
       " 'Social distancing',\n",
       " 'Lockdown',\n",
       " 'Governance and socio-economic measures',\n",
       " 'Humanitarian exemption']"
      ]
     },
     "execution_count": 17,
     "metadata": {},
     "output_type": "execute_result"
    }
   ],
   "source": [
    "feature_names = []\n",
    "\n",
    "sub_data = '|'\n",
    "\n",
    "k=1\n",
    "\n",
    "while (k <= feature_count):\n",
    "    item = tmp[k][1].split(\"= \")\n",
    "    item[1] = item[1].replace(\"\\n\", \"\")\n",
    "    feature_names.append(item[1])\n",
    "\n",
    "    k+=1\n",
    "    \n",
    "feature_names"
   ]
  },
  {
   "cell_type": "code",
   "execution_count": 18,
   "metadata": {},
   "outputs": [],
   "source": [
    "item_to_be_deleted = []\n",
    "for i in total_count_of_each_feature:\n",
    "    if i == 0:\n",
    "        index = total_count_of_each_feature.index(i)\n",
    "        item_to_be_deleted.append(index)"
   ]
  },
  {
   "cell_type": "code",
   "execution_count": 19,
   "metadata": {},
   "outputs": [],
   "source": [
    "item_to_be_deleted = []\n",
    "for i in range(len(total_count_of_each_feature)):\n",
    "    if total_count_of_each_feature[i] == 0:\n",
    "        item_to_be_deleted.append(i)"
   ]
  },
  {
   "cell_type": "code",
   "execution_count": 20,
   "metadata": {},
   "outputs": [],
   "source": [
    "item_to_be_deleted.sort(reverse=True)"
   ]
  },
  {
   "cell_type": "code",
   "execution_count": 21,
   "metadata": {},
   "outputs": [],
   "source": [
    "for i in item_to_be_deleted:\n",
    "    total_count_of_each_feature.pop(i)\n",
    "    feature_names.pop(i)"
   ]
  },
  {
   "cell_type": "code",
   "execution_count": 22,
   "metadata": {},
   "outputs": [
    {
     "data": {
      "text/plain": [
       "['Public health measures',\n",
       " 'Movement restrictions',\n",
       " 'Social distancing',\n",
       " 'Governance and socio-economic measures']"
      ]
     },
     "execution_count": 22,
     "metadata": {},
     "output_type": "execute_result"
    }
   ],
   "source": [
    "feature_names"
   ]
  },
  {
   "cell_type": "code",
   "execution_count": 23,
   "metadata": {},
   "outputs": [
    {
     "data": {
      "text/plain": [
       "'United States'"
      ]
     },
     "execution_count": 23,
     "metadata": {},
     "output_type": "execute_result"
    }
   ],
   "source": [
    "CountryName = CountryName.replace(\"'\", \"\")\n",
    "CountryName"
   ]
  },
  {
   "cell_type": "code",
   "execution_count": 24,
   "metadata": {},
   "outputs": [],
   "source": [
    "data = {'MAIN_MEASURES':feature_names,'COUNT_OF_INSTANCES':total_count_of_each_feature}\n",
    "dataframe = pd.DataFrame(data)"
   ]
  },
  {
   "cell_type": "code",
   "execution_count": 25,
   "metadata": {},
   "outputs": [],
   "source": [
    "dataframe['COUNTRY'] = CountryName"
   ]
  },
  {
   "cell_type": "code",
   "execution_count": 26,
   "metadata": {},
   "outputs": [],
   "source": [
    "dataframe['DURATION(MONTHS)'] = '7'"
   ]
  },
  {
   "cell_type": "code",
   "execution_count": 27,
   "metadata": {},
   "outputs": [
    {
     "data": {
      "text/html": [
       "<div>\n",
       "<style scoped>\n",
       "    .dataframe tbody tr th:only-of-type {\n",
       "        vertical-align: middle;\n",
       "    }\n",
       "\n",
       "    .dataframe tbody tr th {\n",
       "        vertical-align: top;\n",
       "    }\n",
       "\n",
       "    .dataframe thead th {\n",
       "        text-align: right;\n",
       "    }\n",
       "</style>\n",
       "<table border=\"1\" class=\"dataframe\">\n",
       "  <thead>\n",
       "    <tr style=\"text-align: right;\">\n",
       "      <th></th>\n",
       "      <th>COUNTRY</th>\n",
       "      <th>DURATION(MONTHS)</th>\n",
       "      <th>MAIN_MEASURES</th>\n",
       "      <th>COUNT_OF_INSTANCES</th>\n",
       "    </tr>\n",
       "  </thead>\n",
       "  <tbody>\n",
       "    <tr>\n",
       "      <th>0</th>\n",
       "      <td>United States</td>\n",
       "      <td>7</td>\n",
       "      <td>Public health measures</td>\n",
       "      <td>18</td>\n",
       "    </tr>\n",
       "    <tr>\n",
       "      <th>1</th>\n",
       "      <td>United States</td>\n",
       "      <td>7</td>\n",
       "      <td>Movement restrictions</td>\n",
       "      <td>8</td>\n",
       "    </tr>\n",
       "    <tr>\n",
       "      <th>2</th>\n",
       "      <td>United States</td>\n",
       "      <td>7</td>\n",
       "      <td>Social distancing</td>\n",
       "      <td>3</td>\n",
       "    </tr>\n",
       "    <tr>\n",
       "      <th>3</th>\n",
       "      <td>United States</td>\n",
       "      <td>7</td>\n",
       "      <td>Governance and socio-economic measures</td>\n",
       "      <td>11</td>\n",
       "    </tr>\n",
       "  </tbody>\n",
       "</table>\n",
       "</div>"
      ],
      "text/plain": [
       "         COUNTRY DURATION(MONTHS)                           MAIN_MEASURES  \\\n",
       "0  United States                7                  Public health measures   \n",
       "1  United States                7                   Movement restrictions   \n",
       "2  United States                7                       Social distancing   \n",
       "3  United States                7  Governance and socio-economic measures   \n",
       "\n",
       "   COUNT_OF_INSTANCES  \n",
       "0                  18  \n",
       "1                   8  \n",
       "2                   3  \n",
       "3                  11  "
      ]
     },
     "execution_count": 27,
     "metadata": {},
     "output_type": "execute_result"
    }
   ],
   "source": [
    "dataframe = dataframe[['COUNTRY','DURATION(MONTHS)','MAIN_MEASURES','COUNT_OF_INSTANCES']]\n",
    "dataframe"
   ]
  },
  {
   "cell_type": "code",
   "execution_count": 28,
   "metadata": {},
   "outputs": [],
   "source": [
    "# Writing the clean dataframe to csv file\n",
    "dataframe.to_csv('../Gov measures file country wise/United_Kingdom_Modeling_result.csv', index=False)"
   ]
  }
 ],
 "metadata": {
  "kernelspec": {
   "display_name": "Python 3",
   "language": "python",
   "name": "python3"
  },
  "language_info": {
   "codemirror_mode": {
    "name": "ipython",
    "version": 3
   },
   "file_extension": ".py",
   "mimetype": "text/x-python",
   "name": "python",
   "nbconvert_exporter": "python",
   "pygments_lexer": "ipython3",
   "version": "3.8.5"
  }
 },
 "nbformat": 4,
 "nbformat_minor": 4
}
