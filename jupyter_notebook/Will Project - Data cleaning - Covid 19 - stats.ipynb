{
 "cells": [
  {
   "cell_type": "markdown",
   "metadata": {},
   "source": [
    "## Data cleaning"
   ]
  },
  {
   "cell_type": "code",
   "execution_count": 1,
   "metadata": {},
   "outputs": [],
   "source": [
    "## Required packages loaded\n",
    "import pandas as pd\n",
    "import numpy as np\n",
    "import re"
   ]
  },
  {
   "cell_type": "markdown",
   "metadata": {},
   "source": [
    "### Covid_19 stats dataset"
   ]
  },
  {
   "cell_type": "code",
   "execution_count": 4,
   "metadata": {},
   "outputs": [],
   "source": [
    "# Load the data from csv file into a data frame\n",
    "xlsx = pd.ExcelFile('../datasets/owid-covid-data-2.xlsx')\n",
    "covid19_stats = pd.read_excel(xlsx, 'Sheet1')"
   ]
  },
  {
   "cell_type": "code",
   "execution_count": 5,
   "metadata": {},
   "outputs": [
    {
     "data": {
      "text/html": [
       "<div>\n",
       "<style scoped>\n",
       "    .dataframe tbody tr th:only-of-type {\n",
       "        vertical-align: middle;\n",
       "    }\n",
       "\n",
       "    .dataframe tbody tr th {\n",
       "        vertical-align: top;\n",
       "    }\n",
       "\n",
       "    .dataframe thead th {\n",
       "        text-align: right;\n",
       "    }\n",
       "</style>\n",
       "<table border=\"1\" class=\"dataframe\">\n",
       "  <thead>\n",
       "    <tr style=\"text-align: right;\">\n",
       "      <th></th>\n",
       "      <th>iso_code</th>\n",
       "      <th>continent</th>\n",
       "      <th>location</th>\n",
       "      <th>date</th>\n",
       "      <th>total_cases</th>\n",
       "      <th>new_cases</th>\n",
       "      <th>new_cases_smoothed</th>\n",
       "      <th>total_deaths</th>\n",
       "      <th>new_deaths</th>\n",
       "      <th>new_deaths_smoothed</th>\n",
       "      <th>...</th>\n",
       "      <th>extreme_poverty</th>\n",
       "      <th>cardiovasc_death_rate</th>\n",
       "      <th>diabetes_prevalence</th>\n",
       "      <th>female_smokers</th>\n",
       "      <th>male_smokers</th>\n",
       "      <th>handwashing_facilities</th>\n",
       "      <th>hospital_beds_per_thousand</th>\n",
       "      <th>life_expectancy</th>\n",
       "      <th>human_development_index</th>\n",
       "      <th>excess_mortality</th>\n",
       "    </tr>\n",
       "  </thead>\n",
       "  <tbody>\n",
       "    <tr>\n",
       "      <th>0</th>\n",
       "      <td>AFG</td>\n",
       "      <td>Asia</td>\n",
       "      <td>Afghanistan</td>\n",
       "      <td>2020-02-24</td>\n",
       "      <td>1.0</td>\n",
       "      <td>1.0</td>\n",
       "      <td>NaN</td>\n",
       "      <td>NaN</td>\n",
       "      <td>NaN</td>\n",
       "      <td>NaN</td>\n",
       "      <td>...</td>\n",
       "      <td>NaN</td>\n",
       "      <td>597.029</td>\n",
       "      <td>9.59</td>\n",
       "      <td>NaN</td>\n",
       "      <td>NaN</td>\n",
       "      <td>37.746</td>\n",
       "      <td>0.5</td>\n",
       "      <td>64.83</td>\n",
       "      <td>0.511</td>\n",
       "      <td>NaN</td>\n",
       "    </tr>\n",
       "    <tr>\n",
       "      <th>1</th>\n",
       "      <td>AFG</td>\n",
       "      <td>Asia</td>\n",
       "      <td>Afghanistan</td>\n",
       "      <td>2020-02-25</td>\n",
       "      <td>1.0</td>\n",
       "      <td>0.0</td>\n",
       "      <td>NaN</td>\n",
       "      <td>NaN</td>\n",
       "      <td>NaN</td>\n",
       "      <td>NaN</td>\n",
       "      <td>...</td>\n",
       "      <td>NaN</td>\n",
       "      <td>597.029</td>\n",
       "      <td>9.59</td>\n",
       "      <td>NaN</td>\n",
       "      <td>NaN</td>\n",
       "      <td>37.746</td>\n",
       "      <td>0.5</td>\n",
       "      <td>64.83</td>\n",
       "      <td>0.511</td>\n",
       "      <td>NaN</td>\n",
       "    </tr>\n",
       "    <tr>\n",
       "      <th>2</th>\n",
       "      <td>AFG</td>\n",
       "      <td>Asia</td>\n",
       "      <td>Afghanistan</td>\n",
       "      <td>2020-02-26</td>\n",
       "      <td>1.0</td>\n",
       "      <td>0.0</td>\n",
       "      <td>NaN</td>\n",
       "      <td>NaN</td>\n",
       "      <td>NaN</td>\n",
       "      <td>NaN</td>\n",
       "      <td>...</td>\n",
       "      <td>NaN</td>\n",
       "      <td>597.029</td>\n",
       "      <td>9.59</td>\n",
       "      <td>NaN</td>\n",
       "      <td>NaN</td>\n",
       "      <td>37.746</td>\n",
       "      <td>0.5</td>\n",
       "      <td>64.83</td>\n",
       "      <td>0.511</td>\n",
       "      <td>NaN</td>\n",
       "    </tr>\n",
       "    <tr>\n",
       "      <th>3</th>\n",
       "      <td>AFG</td>\n",
       "      <td>Asia</td>\n",
       "      <td>Afghanistan</td>\n",
       "      <td>2020-02-27</td>\n",
       "      <td>1.0</td>\n",
       "      <td>0.0</td>\n",
       "      <td>NaN</td>\n",
       "      <td>NaN</td>\n",
       "      <td>NaN</td>\n",
       "      <td>NaN</td>\n",
       "      <td>...</td>\n",
       "      <td>NaN</td>\n",
       "      <td>597.029</td>\n",
       "      <td>9.59</td>\n",
       "      <td>NaN</td>\n",
       "      <td>NaN</td>\n",
       "      <td>37.746</td>\n",
       "      <td>0.5</td>\n",
       "      <td>64.83</td>\n",
       "      <td>0.511</td>\n",
       "      <td>NaN</td>\n",
       "    </tr>\n",
       "    <tr>\n",
       "      <th>4</th>\n",
       "      <td>AFG</td>\n",
       "      <td>Asia</td>\n",
       "      <td>Afghanistan</td>\n",
       "      <td>2020-02-28</td>\n",
       "      <td>1.0</td>\n",
       "      <td>0.0</td>\n",
       "      <td>NaN</td>\n",
       "      <td>NaN</td>\n",
       "      <td>NaN</td>\n",
       "      <td>NaN</td>\n",
       "      <td>...</td>\n",
       "      <td>NaN</td>\n",
       "      <td>597.029</td>\n",
       "      <td>9.59</td>\n",
       "      <td>NaN</td>\n",
       "      <td>NaN</td>\n",
       "      <td>37.746</td>\n",
       "      <td>0.5</td>\n",
       "      <td>64.83</td>\n",
       "      <td>0.511</td>\n",
       "      <td>NaN</td>\n",
       "    </tr>\n",
       "  </tbody>\n",
       "</table>\n",
       "<p>5 rows × 62 columns</p>\n",
       "</div>"
      ],
      "text/plain": [
       "  iso_code continent     location        date  total_cases  new_cases  \\\n",
       "0      AFG      Asia  Afghanistan  2020-02-24          1.0        1.0   \n",
       "1      AFG      Asia  Afghanistan  2020-02-25          1.0        0.0   \n",
       "2      AFG      Asia  Afghanistan  2020-02-26          1.0        0.0   \n",
       "3      AFG      Asia  Afghanistan  2020-02-27          1.0        0.0   \n",
       "4      AFG      Asia  Afghanistan  2020-02-28          1.0        0.0   \n",
       "\n",
       "   new_cases_smoothed  total_deaths  new_deaths  new_deaths_smoothed  ...  \\\n",
       "0                 NaN           NaN         NaN                  NaN  ...   \n",
       "1                 NaN           NaN         NaN                  NaN  ...   \n",
       "2                 NaN           NaN         NaN                  NaN  ...   \n",
       "3                 NaN           NaN         NaN                  NaN  ...   \n",
       "4                 NaN           NaN         NaN                  NaN  ...   \n",
       "\n",
       "   extreme_poverty  cardiovasc_death_rate  diabetes_prevalence  \\\n",
       "0              NaN                597.029                 9.59   \n",
       "1              NaN                597.029                 9.59   \n",
       "2              NaN                597.029                 9.59   \n",
       "3              NaN                597.029                 9.59   \n",
       "4              NaN                597.029                 9.59   \n",
       "\n",
       "   female_smokers  male_smokers  handwashing_facilities  \\\n",
       "0             NaN           NaN                  37.746   \n",
       "1             NaN           NaN                  37.746   \n",
       "2             NaN           NaN                  37.746   \n",
       "3             NaN           NaN                  37.746   \n",
       "4             NaN           NaN                  37.746   \n",
       "\n",
       "   hospital_beds_per_thousand  life_expectancy  human_development_index  \\\n",
       "0                         0.5            64.83                    0.511   \n",
       "1                         0.5            64.83                    0.511   \n",
       "2                         0.5            64.83                    0.511   \n",
       "3                         0.5            64.83                    0.511   \n",
       "4                         0.5            64.83                    0.511   \n",
       "\n",
       "   excess_mortality  \n",
       "0               NaN  \n",
       "1               NaN  \n",
       "2               NaN  \n",
       "3               NaN  \n",
       "4               NaN  \n",
       "\n",
       "[5 rows x 62 columns]"
      ]
     },
     "execution_count": 5,
     "metadata": {},
     "output_type": "execute_result"
    }
   ],
   "source": [
    "# Check the dataframe\n",
    "covid19_stats.head()"
   ]
  },
  {
   "cell_type": "code",
   "execution_count": 6,
   "metadata": {},
   "outputs": [
    {
     "data": {
      "text/plain": [
       "(109100, 62)"
      ]
     },
     "execution_count": 6,
     "metadata": {},
     "output_type": "execute_result"
    }
   ],
   "source": [
    "# Check the row and column count of the dataframe\n",
    "covid19_stats.shape"
   ]
  },
  {
   "cell_type": "code",
   "execution_count": 7,
   "metadata": {},
   "outputs": [
    {
     "data": {
      "text/plain": [
       "iso_code                           0\n",
       "continent                       5047\n",
       "location                           0\n",
       "date                               0\n",
       "total_cases                     4677\n",
       "                               ...  \n",
       "handwashing_facilities         60212\n",
       "hospital_beds_per_thousand     20533\n",
       "life_expectancy                 5557\n",
       "human_development_index        11666\n",
       "excess_mortality              105226\n",
       "Length: 62, dtype: int64"
      ]
     },
     "execution_count": 7,
     "metadata": {},
     "output_type": "execute_result"
    }
   ],
   "source": [
    "# Check the null values in all columns\n",
    "covid19_stats.isnull().sum()"
   ]
  },
  {
   "cell_type": "code",
   "execution_count": 8,
   "metadata": {},
   "outputs": [],
   "source": [
    "# Since we are going to use the actual numbers from the total_cases,new_cases,total_deaths,new_deaths columns\n",
    "# we are going to drop the below columns\n",
    "covid19_stats.drop('new_cases_smoothed', inplace=True, axis=1)\n",
    "covid19_stats.drop('new_deaths_smoothed', inplace=True, axis=1)\n",
    "covid19_stats.drop('total_cases_per_million', inplace=True, axis=1)\n",
    "covid19_stats.drop('new_cases_per_million', inplace=True, axis=1)\n",
    "covid19_stats.drop('new_cases_smoothed_per_million', inplace=True, axis=1)\n",
    "covid19_stats.drop('total_deaths_per_million', inplace=True, axis=1)\n",
    "covid19_stats.drop('new_deaths_per_million', inplace=True, axis=1)\n",
    "covid19_stats.drop('new_deaths_smoothed_per_million', inplace=True, axis=1)"
   ]
  },
  {
   "cell_type": "code",
   "execution_count": 9,
   "metadata": {},
   "outputs": [],
   "source": [
    "# Since we are going to use the actual numbers from the icu_patients,hosp_patients columns\n",
    "# we are going to drop the below columns\n",
    "covid19_stats.drop('icu_patients_per_million', inplace=True, axis=1)\n",
    "covid19_stats.drop('hosp_patients_per_million', inplace=True, axis=1)\n",
    "covid19_stats.drop('weekly_icu_admissions', inplace=True, axis=1)\n",
    "covid19_stats.drop('weekly_icu_admissions_per_million', inplace=True, axis=1)\n",
    "covid19_stats.drop('weekly_hosp_admissions', inplace=True, axis=1)\n",
    "covid19_stats.drop('weekly_hosp_admissions_per_million', inplace=True, axis=1)"
   ]
  },
  {
   "cell_type": "code",
   "execution_count": 10,
   "metadata": {},
   "outputs": [],
   "source": [
    "# Since we are going to use the actual numbers from the total_tests,new_tests columns\n",
    "# we are going to drop the below columns\n",
    "covid19_stats.drop('total_tests_per_thousand', inplace=True, axis=1)\n",
    "covid19_stats.drop('new_tests_per_thousand', inplace=True, axis=1)\n",
    "covid19_stats.drop('new_tests_smoothed', inplace=True, axis=1)\n",
    "covid19_stats.drop('new_tests_smoothed_per_thousand', inplace=True, axis=1)\n",
    "covid19_stats.drop('tests_per_case', inplace=True, axis=1)\n",
    "covid19_stats.drop('tests_units', inplace=True, axis=1)"
   ]
  },
  {
   "cell_type": "code",
   "execution_count": 11,
   "metadata": {},
   "outputs": [],
   "source": [
    "# Since we are going to use the actual numbers from the new_vaccinations,total_vaccinations,people_vaccinated,\n",
    "# people_fully_vaccinated columns\n",
    "# we are going to drop the below columns\n",
    "covid19_stats.drop('total_boosters', inplace=True, axis=1)\n",
    "covid19_stats.drop('new_vaccinations_smoothed', inplace=True, axis=1)\n",
    "covid19_stats.drop('total_vaccinations_per_hundred', inplace=True, axis=1)\n",
    "covid19_stats.drop('people_vaccinated_per_hundred', inplace=True, axis=1)\n",
    "covid19_stats.drop('people_fully_vaccinated_per_hundred', inplace=True, axis=1)\n",
    "covid19_stats.drop('total_boosters_per_hundred', inplace=True, axis=1)\n",
    "covid19_stats.drop('new_vaccinations_smoothed_per_million', inplace=True, axis=1)"
   ]
  },
  {
   "cell_type": "code",
   "execution_count": 12,
   "metadata": {},
   "outputs": [],
   "source": [
    "# Since we are going to use the actual numbers from the stringency_index,population columns\n",
    "# we are going to drop the below columns\n",
    "covid19_stats.drop('population_density', inplace=True, axis=1)\n",
    "covid19_stats.drop('median_age', inplace=True, axis=1)\n",
    "covid19_stats.drop('aged_65_older', inplace=True, axis=1)\n",
    "covid19_stats.drop('aged_70_older', inplace=True, axis=1)\n",
    "covid19_stats.drop('gdp_per_capita', inplace=True, axis=1)\n",
    "covid19_stats.drop('extreme_poverty', inplace=True, axis=1)\n",
    "covid19_stats.drop('cardiovasc_death_rate', inplace=True, axis=1)\n",
    "covid19_stats.drop('diabetes_prevalence', inplace=True, axis=1)\n",
    "covid19_stats.drop('female_smokers', inplace=True, axis=1)\n",
    "covid19_stats.drop('male_smokers', inplace=True, axis=1)\n",
    "covid19_stats.drop('handwashing_facilities', inplace=True, axis=1)\n",
    "covid19_stats.drop('hospital_beds_per_thousand', inplace=True, axis=1)\n",
    "covid19_stats.drop('life_expectancy', inplace=True, axis=1)\n",
    "covid19_stats.drop('human_development_index', inplace=True, axis=1)\n",
    "covid19_stats.drop('excess_mortality', inplace=True, axis=1)"
   ]
  },
  {
   "cell_type": "code",
   "execution_count": 13,
   "metadata": {},
   "outputs": [],
   "source": [
    "# Since we are not going to use the actual numbers from the reproduction_rate,icu_patients and hosp_patients columns\n",
    "# we are going to drop the below columns\n",
    "covid19_stats.drop('reproduction_rate', inplace=True, axis=1)\n",
    "covid19_stats.drop('icu_patients', inplace=True, axis=1)\n",
    "covid19_stats.drop('hosp_patients', inplace=True, axis=1)"
   ]
  },
  {
   "cell_type": "code",
   "execution_count": 14,
   "metadata": {},
   "outputs": [
    {
     "name": "stdout",
     "output_type": "stream",
     "text": [
      "<class 'pandas.core.frame.DataFrame'>\n",
      "RangeIndex: 109100 entries, 0 to 109099\n",
      "Data columns (total 17 columns):\n",
      " #   Column                   Non-Null Count   Dtype  \n",
      "---  ------                   --------------   -----  \n",
      " 0   iso_code                 109100 non-null  object \n",
      " 1   continent                104053 non-null  object \n",
      " 2   location                 109100 non-null  object \n",
      " 3   date                     109100 non-null  object \n",
      " 4   total_cases              104423 non-null  float64\n",
      " 5   new_cases                104420 non-null  float64\n",
      " 6   total_deaths             93996 non-null   float64\n",
      " 7   new_deaths               94151 non-null   float64\n",
      " 8   new_tests                48420 non-null   float64\n",
      " 9   total_tests              48130 non-null   float64\n",
      " 10  positive_rate            53215 non-null   float64\n",
      " 11  total_vaccinations       21537 non-null   float64\n",
      " 12  people_vaccinated        20614 non-null   float64\n",
      " 13  people_fully_vaccinated  17634 non-null   float64\n",
      " 14  new_vaccinations         17888 non-null   float64\n",
      " 15  stringency_index         90632 non-null   float64\n",
      " 16  population               108382 non-null  float64\n",
      "dtypes: float64(13), object(4)\n",
      "memory usage: 14.2+ MB\n"
     ]
    }
   ],
   "source": [
    "# Final dataset with actual columns to analyse\n",
    "covid19_stats.info()"
   ]
  },
  {
   "cell_type": "code",
   "execution_count": 15,
   "metadata": {},
   "outputs": [
    {
     "data": {
      "text/plain": [
       "iso_code                       0\n",
       "continent                   5047\n",
       "location                       0\n",
       "date                           0\n",
       "total_cases                 4677\n",
       "new_cases                   4680\n",
       "total_deaths               15104\n",
       "new_deaths                 14949\n",
       "new_tests                  60680\n",
       "total_tests                60970\n",
       "positive_rate              55885\n",
       "total_vaccinations         87563\n",
       "people_vaccinated          88486\n",
       "people_fully_vaccinated    91466\n",
       "new_vaccinations           91212\n",
       "stringency_index           18468\n",
       "population                   718\n",
       "dtype: int64"
      ]
     },
     "execution_count": 15,
     "metadata": {},
     "output_type": "execute_result"
    }
   ],
   "source": [
    "# Final dataset all column null check\n",
    "covid19_stats.isnull().sum()"
   ]
  },
  {
   "cell_type": "code",
   "execution_count": 16,
   "metadata": {},
   "outputs": [],
   "source": [
    "# convert the column iso_code to string datatype\n",
    "covid19_stats['iso_code'] = covid19_stats['iso_code'].astype('string')\n",
    "# convert the column continent to string datatype\n",
    "covid19_stats['continent'] = covid19_stats['continent'].astype('string')\n",
    "# convert the column location to string datatype\n",
    "covid19_stats['location'] = covid19_stats['location'].astype('string')\n",
    "# convert the column location to datetime datatype\n",
    "covid19_stats['date'] = pd.to_datetime(covid19_stats['date'])"
   ]
  },
  {
   "cell_type": "code",
   "execution_count": 17,
   "metadata": {},
   "outputs": [
    {
     "name": "stdout",
     "output_type": "stream",
     "text": [
      "<class 'pandas.core.frame.DataFrame'>\n",
      "RangeIndex: 109100 entries, 0 to 109099\n",
      "Data columns (total 17 columns):\n",
      " #   Column                   Non-Null Count   Dtype         \n",
      "---  ------                   --------------   -----         \n",
      " 0   iso_code                 109100 non-null  string        \n",
      " 1   continent                104053 non-null  string        \n",
      " 2   location                 109100 non-null  string        \n",
      " 3   date                     109100 non-null  datetime64[ns]\n",
      " 4   total_cases              104423 non-null  float64       \n",
      " 5   new_cases                104420 non-null  float64       \n",
      " 6   total_deaths             93996 non-null   float64       \n",
      " 7   new_deaths               94151 non-null   float64       \n",
      " 8   new_tests                48420 non-null   float64       \n",
      " 9   total_tests              48130 non-null   float64       \n",
      " 10  positive_rate            53215 non-null   float64       \n",
      " 11  total_vaccinations       21537 non-null   float64       \n",
      " 12  people_vaccinated        20614 non-null   float64       \n",
      " 13  people_fully_vaccinated  17634 non-null   float64       \n",
      " 14  new_vaccinations         17888 non-null   float64       \n",
      " 15  stringency_index         90632 non-null   float64       \n",
      " 16  population               108382 non-null  float64       \n",
      "dtypes: datetime64[ns](1), float64(13), string(3)\n",
      "memory usage: 14.2 MB\n"
     ]
    }
   ],
   "source": [
    "# Final dataset with actual columns to analyse\n",
    "covid19_stats.info()"
   ]
  },
  {
   "cell_type": "code",
   "execution_count": 18,
   "metadata": {},
   "outputs": [
    {
     "data": {
      "text/html": [
       "<div>\n",
       "<style scoped>\n",
       "    .dataframe tbody tr th:only-of-type {\n",
       "        vertical-align: middle;\n",
       "    }\n",
       "\n",
       "    .dataframe tbody tr th {\n",
       "        vertical-align: top;\n",
       "    }\n",
       "\n",
       "    .dataframe thead th {\n",
       "        text-align: right;\n",
       "    }\n",
       "</style>\n",
       "<table border=\"1\" class=\"dataframe\">\n",
       "  <thead>\n",
       "    <tr style=\"text-align: right;\">\n",
       "      <th></th>\n",
       "      <th>iso_code</th>\n",
       "      <th>continent</th>\n",
       "      <th>location</th>\n",
       "      <th>date</th>\n",
       "      <th>total_cases</th>\n",
       "      <th>new_cases</th>\n",
       "      <th>total_deaths</th>\n",
       "      <th>new_deaths</th>\n",
       "      <th>new_tests</th>\n",
       "      <th>total_tests</th>\n",
       "      <th>positive_rate</th>\n",
       "      <th>total_vaccinations</th>\n",
       "      <th>people_vaccinated</th>\n",
       "      <th>people_fully_vaccinated</th>\n",
       "      <th>new_vaccinations</th>\n",
       "      <th>stringency_index</th>\n",
       "      <th>population</th>\n",
       "    </tr>\n",
       "  </thead>\n",
       "  <tbody>\n",
       "    <tr>\n",
       "      <th>536</th>\n",
       "      <td>OWID_AFR</td>\n",
       "      <td>&lt;NA&gt;</td>\n",
       "      <td>Africa</td>\n",
       "      <td>2020-02-13</td>\n",
       "      <td>NaN</td>\n",
       "      <td>0.0</td>\n",
       "      <td>NaN</td>\n",
       "      <td>0.0</td>\n",
       "      <td>NaN</td>\n",
       "      <td>NaN</td>\n",
       "      <td>NaN</td>\n",
       "      <td>NaN</td>\n",
       "      <td>NaN</td>\n",
       "      <td>NaN</td>\n",
       "      <td>NaN</td>\n",
       "      <td>NaN</td>\n",
       "      <td>1.340598e+09</td>\n",
       "    </tr>\n",
       "    <tr>\n",
       "      <th>537</th>\n",
       "      <td>OWID_AFR</td>\n",
       "      <td>&lt;NA&gt;</td>\n",
       "      <td>Africa</td>\n",
       "      <td>2020-02-14</td>\n",
       "      <td>1.0</td>\n",
       "      <td>1.0</td>\n",
       "      <td>NaN</td>\n",
       "      <td>0.0</td>\n",
       "      <td>NaN</td>\n",
       "      <td>NaN</td>\n",
       "      <td>NaN</td>\n",
       "      <td>NaN</td>\n",
       "      <td>NaN</td>\n",
       "      <td>NaN</td>\n",
       "      <td>NaN</td>\n",
       "      <td>NaN</td>\n",
       "      <td>1.340598e+09</td>\n",
       "    </tr>\n",
       "    <tr>\n",
       "      <th>538</th>\n",
       "      <td>OWID_AFR</td>\n",
       "      <td>&lt;NA&gt;</td>\n",
       "      <td>Africa</td>\n",
       "      <td>2020-02-15</td>\n",
       "      <td>1.0</td>\n",
       "      <td>0.0</td>\n",
       "      <td>NaN</td>\n",
       "      <td>0.0</td>\n",
       "      <td>NaN</td>\n",
       "      <td>NaN</td>\n",
       "      <td>NaN</td>\n",
       "      <td>NaN</td>\n",
       "      <td>NaN</td>\n",
       "      <td>NaN</td>\n",
       "      <td>NaN</td>\n",
       "      <td>NaN</td>\n",
       "      <td>1.340598e+09</td>\n",
       "    </tr>\n",
       "    <tr>\n",
       "      <th>539</th>\n",
       "      <td>OWID_AFR</td>\n",
       "      <td>&lt;NA&gt;</td>\n",
       "      <td>Africa</td>\n",
       "      <td>2020-02-16</td>\n",
       "      <td>1.0</td>\n",
       "      <td>0.0</td>\n",
       "      <td>NaN</td>\n",
       "      <td>0.0</td>\n",
       "      <td>NaN</td>\n",
       "      <td>NaN</td>\n",
       "      <td>NaN</td>\n",
       "      <td>NaN</td>\n",
       "      <td>NaN</td>\n",
       "      <td>NaN</td>\n",
       "      <td>NaN</td>\n",
       "      <td>NaN</td>\n",
       "      <td>1.340598e+09</td>\n",
       "    </tr>\n",
       "    <tr>\n",
       "      <th>540</th>\n",
       "      <td>OWID_AFR</td>\n",
       "      <td>&lt;NA&gt;</td>\n",
       "      <td>Africa</td>\n",
       "      <td>2020-02-17</td>\n",
       "      <td>1.0</td>\n",
       "      <td>0.0</td>\n",
       "      <td>NaN</td>\n",
       "      <td>0.0</td>\n",
       "      <td>NaN</td>\n",
       "      <td>NaN</td>\n",
       "      <td>NaN</td>\n",
       "      <td>NaN</td>\n",
       "      <td>NaN</td>\n",
       "      <td>NaN</td>\n",
       "      <td>NaN</td>\n",
       "      <td>NaN</td>\n",
       "      <td>1.340598e+09</td>\n",
       "    </tr>\n",
       "    <tr>\n",
       "      <th>...</th>\n",
       "      <td>...</td>\n",
       "      <td>...</td>\n",
       "      <td>...</td>\n",
       "      <td>...</td>\n",
       "      <td>...</td>\n",
       "      <td>...</td>\n",
       "      <td>...</td>\n",
       "      <td>...</td>\n",
       "      <td>...</td>\n",
       "      <td>...</td>\n",
       "      <td>...</td>\n",
       "      <td>...</td>\n",
       "      <td>...</td>\n",
       "      <td>...</td>\n",
       "      <td>...</td>\n",
       "      <td>...</td>\n",
       "      <td>...</td>\n",
       "    </tr>\n",
       "    <tr>\n",
       "      <th>107581</th>\n",
       "      <td>OWID_WRL</td>\n",
       "      <td>&lt;NA&gt;</td>\n",
       "      <td>World</td>\n",
       "      <td>2021-08-08</td>\n",
       "      <td>202728255.0</td>\n",
       "      <td>437309.0</td>\n",
       "      <td>4294361.0</td>\n",
       "      <td>7429.0</td>\n",
       "      <td>NaN</td>\n",
       "      <td>NaN</td>\n",
       "      <td>NaN</td>\n",
       "      <td>4.470114e+09</td>\n",
       "      <td>2.345632e+09</td>\n",
       "      <td>1.210396e+09</td>\n",
       "      <td>30387974.0</td>\n",
       "      <td>NaN</td>\n",
       "      <td>7.794799e+09</td>\n",
       "    </tr>\n",
       "    <tr>\n",
       "      <th>107582</th>\n",
       "      <td>OWID_WRL</td>\n",
       "      <td>&lt;NA&gt;</td>\n",
       "      <td>World</td>\n",
       "      <td>2021-08-09</td>\n",
       "      <td>203384856.0</td>\n",
       "      <td>656601.0</td>\n",
       "      <td>4302961.0</td>\n",
       "      <td>8600.0</td>\n",
       "      <td>NaN</td>\n",
       "      <td>NaN</td>\n",
       "      <td>NaN</td>\n",
       "      <td>4.499785e+09</td>\n",
       "      <td>2.364787e+09</td>\n",
       "      <td>1.225952e+09</td>\n",
       "      <td>29671468.0</td>\n",
       "      <td>NaN</td>\n",
       "      <td>7.794799e+09</td>\n",
       "    </tr>\n",
       "    <tr>\n",
       "      <th>107583</th>\n",
       "      <td>OWID_WRL</td>\n",
       "      <td>&lt;NA&gt;</td>\n",
       "      <td>World</td>\n",
       "      <td>2021-08-10</td>\n",
       "      <td>204022307.0</td>\n",
       "      <td>637451.0</td>\n",
       "      <td>4314527.0</td>\n",
       "      <td>11566.0</td>\n",
       "      <td>NaN</td>\n",
       "      <td>NaN</td>\n",
       "      <td>NaN</td>\n",
       "      <td>4.552000e+09</td>\n",
       "      <td>2.380299e+09</td>\n",
       "      <td>1.237723e+09</td>\n",
       "      <td>52214162.0</td>\n",
       "      <td>NaN</td>\n",
       "      <td>7.794799e+09</td>\n",
       "    </tr>\n",
       "    <tr>\n",
       "      <th>107584</th>\n",
       "      <td>OWID_WRL</td>\n",
       "      <td>&lt;NA&gt;</td>\n",
       "      <td>World</td>\n",
       "      <td>2021-08-11</td>\n",
       "      <td>204729264.0</td>\n",
       "      <td>706957.0</td>\n",
       "      <td>4324483.0</td>\n",
       "      <td>9956.0</td>\n",
       "      <td>NaN</td>\n",
       "      <td>NaN</td>\n",
       "      <td>NaN</td>\n",
       "      <td>4.589910e+09</td>\n",
       "      <td>2.394926e+09</td>\n",
       "      <td>1.248658e+09</td>\n",
       "      <td>37910559.0</td>\n",
       "      <td>NaN</td>\n",
       "      <td>7.794799e+09</td>\n",
       "    </tr>\n",
       "    <tr>\n",
       "      <th>107585</th>\n",
       "      <td>OWID_WRL</td>\n",
       "      <td>&lt;NA&gt;</td>\n",
       "      <td>World</td>\n",
       "      <td>2021-08-12</td>\n",
       "      <td>205414138.0</td>\n",
       "      <td>684874.0</td>\n",
       "      <td>4334771.0</td>\n",
       "      <td>10288.0</td>\n",
       "      <td>NaN</td>\n",
       "      <td>NaN</td>\n",
       "      <td>NaN</td>\n",
       "      <td>4.620176e+09</td>\n",
       "      <td>2.403604e+09</td>\n",
       "      <td>1.257599e+09</td>\n",
       "      <td>30265997.0</td>\n",
       "      <td>NaN</td>\n",
       "      <td>7.794799e+09</td>\n",
       "    </tr>\n",
       "  </tbody>\n",
       "</table>\n",
       "<p>5047 rows × 17 columns</p>\n",
       "</div>"
      ],
      "text/plain": [
       "        iso_code continent location       date  total_cases  new_cases  \\\n",
       "536     OWID_AFR      <NA>   Africa 2020-02-13          NaN        0.0   \n",
       "537     OWID_AFR      <NA>   Africa 2020-02-14          1.0        1.0   \n",
       "538     OWID_AFR      <NA>   Africa 2020-02-15          1.0        0.0   \n",
       "539     OWID_AFR      <NA>   Africa 2020-02-16          1.0        0.0   \n",
       "540     OWID_AFR      <NA>   Africa 2020-02-17          1.0        0.0   \n",
       "...          ...       ...      ...        ...          ...        ...   \n",
       "107581  OWID_WRL      <NA>    World 2021-08-08  202728255.0   437309.0   \n",
       "107582  OWID_WRL      <NA>    World 2021-08-09  203384856.0   656601.0   \n",
       "107583  OWID_WRL      <NA>    World 2021-08-10  204022307.0   637451.0   \n",
       "107584  OWID_WRL      <NA>    World 2021-08-11  204729264.0   706957.0   \n",
       "107585  OWID_WRL      <NA>    World 2021-08-12  205414138.0   684874.0   \n",
       "\n",
       "        total_deaths  new_deaths  new_tests  total_tests  positive_rate  \\\n",
       "536              NaN         0.0        NaN          NaN            NaN   \n",
       "537              NaN         0.0        NaN          NaN            NaN   \n",
       "538              NaN         0.0        NaN          NaN            NaN   \n",
       "539              NaN         0.0        NaN          NaN            NaN   \n",
       "540              NaN         0.0        NaN          NaN            NaN   \n",
       "...              ...         ...        ...          ...            ...   \n",
       "107581     4294361.0      7429.0        NaN          NaN            NaN   \n",
       "107582     4302961.0      8600.0        NaN          NaN            NaN   \n",
       "107583     4314527.0     11566.0        NaN          NaN            NaN   \n",
       "107584     4324483.0      9956.0        NaN          NaN            NaN   \n",
       "107585     4334771.0     10288.0        NaN          NaN            NaN   \n",
       "\n",
       "        total_vaccinations  people_vaccinated  people_fully_vaccinated  \\\n",
       "536                    NaN                NaN                      NaN   \n",
       "537                    NaN                NaN                      NaN   \n",
       "538                    NaN                NaN                      NaN   \n",
       "539                    NaN                NaN                      NaN   \n",
       "540                    NaN                NaN                      NaN   \n",
       "...                    ...                ...                      ...   \n",
       "107581        4.470114e+09       2.345632e+09             1.210396e+09   \n",
       "107582        4.499785e+09       2.364787e+09             1.225952e+09   \n",
       "107583        4.552000e+09       2.380299e+09             1.237723e+09   \n",
       "107584        4.589910e+09       2.394926e+09             1.248658e+09   \n",
       "107585        4.620176e+09       2.403604e+09             1.257599e+09   \n",
       "\n",
       "        new_vaccinations  stringency_index    population  \n",
       "536                  NaN               NaN  1.340598e+09  \n",
       "537                  NaN               NaN  1.340598e+09  \n",
       "538                  NaN               NaN  1.340598e+09  \n",
       "539                  NaN               NaN  1.340598e+09  \n",
       "540                  NaN               NaN  1.340598e+09  \n",
       "...                  ...               ...           ...  \n",
       "107581        30387974.0               NaN  7.794799e+09  \n",
       "107582        29671468.0               NaN  7.794799e+09  \n",
       "107583        52214162.0               NaN  7.794799e+09  \n",
       "107584        37910559.0               NaN  7.794799e+09  \n",
       "107585        30265997.0               NaN  7.794799e+09  \n",
       "\n",
       "[5047 rows x 17 columns]"
      ]
     },
     "execution_count": 18,
     "metadata": {},
     "output_type": "execute_result"
    }
   ],
   "source": [
    "covid19_stats[covid19_stats['continent'].isnull()]"
   ]
  },
  {
   "cell_type": "code",
   "execution_count": 19,
   "metadata": {},
   "outputs": [],
   "source": [
    "covid19_stats = covid19_stats[~covid19_stats['iso_code'].isin(['OWID_ASI','OWID_AFR','OWID_EUR','OWID_EUN',\n",
    "                                                               'OWID_INT','OWID_KOS','OWID_NAM','OWID_CYN',\n",
    "                                                               'OWID_OCE','OWID_SAM','OWID_WRL'])]"
   ]
  },
  {
   "cell_type": "code",
   "execution_count": 20,
   "metadata": {},
   "outputs": [
    {
     "data": {
      "text/html": [
       "<div>\n",
       "<style scoped>\n",
       "    .dataframe tbody tr th:only-of-type {\n",
       "        vertical-align: middle;\n",
       "    }\n",
       "\n",
       "    .dataframe tbody tr th {\n",
       "        vertical-align: top;\n",
       "    }\n",
       "\n",
       "    .dataframe thead th {\n",
       "        text-align: right;\n",
       "    }\n",
       "</style>\n",
       "<table border=\"1\" class=\"dataframe\">\n",
       "  <thead>\n",
       "    <tr style=\"text-align: right;\">\n",
       "      <th></th>\n",
       "      <th>iso_code</th>\n",
       "      <th>continent</th>\n",
       "      <th>location</th>\n",
       "      <th>date</th>\n",
       "      <th>total_cases</th>\n",
       "      <th>new_cases</th>\n",
       "      <th>total_deaths</th>\n",
       "      <th>new_deaths</th>\n",
       "      <th>new_tests</th>\n",
       "      <th>total_tests</th>\n",
       "      <th>positive_rate</th>\n",
       "      <th>total_vaccinations</th>\n",
       "      <th>people_vaccinated</th>\n",
       "      <th>people_fully_vaccinated</th>\n",
       "      <th>new_vaccinations</th>\n",
       "      <th>stringency_index</th>\n",
       "      <th>population</th>\n",
       "    </tr>\n",
       "  </thead>\n",
       "  <tbody>\n",
       "  </tbody>\n",
       "</table>\n",
       "</div>"
      ],
      "text/plain": [
       "Empty DataFrame\n",
       "Columns: [iso_code, continent, location, date, total_cases, new_cases, total_deaths, new_deaths, new_tests, total_tests, positive_rate, total_vaccinations, people_vaccinated, people_fully_vaccinated, new_vaccinations, stringency_index, population]\n",
       "Index: []"
      ]
     },
     "execution_count": 20,
     "metadata": {},
     "output_type": "execute_result"
    }
   ],
   "source": [
    "covid19_stats[covid19_stats['continent'].isnull()]"
   ]
  },
  {
   "cell_type": "code",
   "execution_count": 21,
   "metadata": {},
   "outputs": [
    {
     "data": {
      "text/plain": [
       "iso_code                       0\n",
       "continent                      0\n",
       "location                       0\n",
       "date                           0\n",
       "total_cases                 4507\n",
       "new_cases                   4515\n",
       "total_deaths               14760\n",
       "new_deaths                 14762\n",
       "new_tests                  54973\n",
       "total_tests                55279\n",
       "positive_rate              50227\n",
       "total_vaccinations         83739\n",
       "people_vaccinated          84659\n",
       "people_fully_vaccinated    87488\n",
       "new_vaccinations           87334\n",
       "stringency_index           13249\n",
       "population                     0\n",
       "dtype: int64"
      ]
     },
     "execution_count": 21,
     "metadata": {},
     "output_type": "execute_result"
    }
   ],
   "source": [
    "# Final dataset all column null check\n",
    "covid19_stats.isnull().sum()"
   ]
  },
  {
   "cell_type": "code",
   "execution_count": 22,
   "metadata": {},
   "outputs": [
    {
     "data": {
      "text/plain": [
       "Index(['iso_code', 'continent', 'location', 'date', 'total_cases', 'new_cases',\n",
       "       'total_deaths', 'new_deaths', 'new_tests', 'total_tests',\n",
       "       'positive_rate', 'total_vaccinations', 'people_vaccinated',\n",
       "       'people_fully_vaccinated', 'new_vaccinations', 'stringency_index',\n",
       "       'population'],\n",
       "      dtype='object')"
      ]
     },
     "execution_count": 22,
     "metadata": {},
     "output_type": "execute_result"
    }
   ],
   "source": [
    "#list the final columns present in the dataframe\n",
    "covid19_stats.columns"
   ]
  },
  {
   "cell_type": "markdown",
   "metadata": {},
   "source": [
    "#### Create the necessary dataframes to store the monthly stats"
   ]
  },
  {
   "cell_type": "code",
   "execution_count": 23,
   "metadata": {},
   "outputs": [
    {
     "name": "stderr",
     "output_type": "stream",
     "text": [
      "<ipython-input-23-961adf0f45a8>:9: SettingWithCopyWarning: \n",
      "A value is trying to be set on a copy of a slice from a DataFrame.\n",
      "Try using .loc[row_indexer,col_indexer] = value instead\n",
      "\n",
      "See the caveats in the documentation: https://pandas.pydata.org/pandas-docs/stable/user_guide/indexing.html#returning-a-view-versus-a-copy\n",
      "  covid19_monthly_subset['population'] = covid19_monthly_subset['population'].astype('str')\n"
     ]
    }
   ],
   "source": [
    "#create 2 dataframe: \n",
    "#1.covid19_monthly_subset will save the monthly data \n",
    "#2.covid19_monthly_total_subset will save the cummulative data upto that specific month\n",
    "\n",
    "covid19_monthly_subset = covid19_stats[['iso_code', 'continent', 'location', 'date','new_cases','new_deaths','new_tests',\n",
    "                                      'new_vaccinations','people_vaccinated','people_fully_vaccinated','population']]\n",
    "covid19_monthly_total_subset = covid19_stats[['iso_code', 'continent', 'location', 'date','total_cases','total_deaths',\n",
    "                                              'total_tests','total_vaccinations','stringency_index','population']]\n",
    "covid19_monthly_subset['population'] = covid19_monthly_subset['population'].astype('str')\n",
    "\n",
    "#covid19_monthly_total_subset['population'] = covid19_monthly_total_subset['population'].astype('str')"
   ]
  },
  {
   "cell_type": "markdown",
   "metadata": {},
   "source": [
    "#### Working on the dataframe to store details of per month stats"
   ]
  },
  {
   "cell_type": "code",
   "execution_count": 24,
   "metadata": {},
   "outputs": [
    {
     "name": "stderr",
     "output_type": "stream",
     "text": [
      "<ipython-input-24-8efe9f8043f3>:3: SettingWithCopyWarning: \n",
      "A value is trying to be set on a copy of a slice from a DataFrame.\n",
      "Try using .loc[row_indexer,col_indexer] = value instead\n",
      "\n",
      "See the caveats in the documentation: https://pandas.pydata.org/pandas-docs/stable/user_guide/indexing.html#returning-a-view-versus-a-copy\n",
      "  covid19_monthly_subset['month_year'] = covid19_monthly_subset['date'].dt.strftime('%B %Y')\n",
      "<ipython-input-24-8efe9f8043f3>:4: SettingWithCopyWarning: \n",
      "A value is trying to be set on a copy of a slice from a DataFrame.\n",
      "Try using .loc[row_indexer,col_indexer] = value instead\n",
      "\n",
      "See the caveats in the documentation: https://pandas.pydata.org/pandas-docs/stable/user_guide/indexing.html#returning-a-view-versus-a-copy\n",
      "  covid19_monthly_total_subset['month_year'] = covid19_monthly_total_subset['date'].dt.strftime('%B %Y')\n",
      "/Users/kajolsingh/opt/anaconda3/lib/python3.8/site-packages/pandas/core/frame.py:5034: SettingWithCopyWarning: \n",
      "A value is trying to be set on a copy of a slice from a DataFrame\n",
      "\n",
      "See the caveats in the documentation: https://pandas.pydata.org/pandas-docs/stable/user_guide/indexing.html#returning-a-view-versus-a-copy\n",
      "  return super().rename(\n"
     ]
    }
   ],
   "source": [
    "#create a new column that will store the month and year details only\n",
    "\n",
    "covid19_monthly_subset['month_year'] = covid19_monthly_subset['date'].dt.strftime('%B %Y')\n",
    "covid19_monthly_total_subset['month_year'] = covid19_monthly_total_subset['date'].dt.strftime('%B %Y')\n",
    "\n",
    "#rename the two column, to make it more understandable\n",
    "covid19_monthly_subset.rename(columns={'people_vaccinated':'partially_vaccinated',\n",
    "                                         'people_fully_vaccinated':'fully_vaccinated'},\n",
    "                              inplace=True)"
   ]
  },
  {
   "cell_type": "markdown",
   "metadata": {},
   "source": [
    "#### Filter the g20 countries"
   ]
  },
  {
   "cell_type": "code",
   "execution_count": 25,
   "metadata": {},
   "outputs": [],
   "source": [
    "g20_countries = ['Argentina', 'Australia', 'Brazil', 'Canada', 'China', 'Germany', 'France',\n",
    "                 'India', 'Indonesia', 'Italy', 'Japan', 'Mexico', 'Russia', 'Saudi Arabia', \n",
    "                 'South Africa', 'South Korea', 'Turkey', 'United Kingdom' ,'United States']"
   ]
  },
  {
   "cell_type": "code",
   "execution_count": 26,
   "metadata": {},
   "outputs": [],
   "source": [
    "covid19_monthly_subset = covid19_monthly_subset[covid19_monthly_subset['location'].isin(g20_countries)]"
   ]
  },
  {
   "cell_type": "code",
   "execution_count": 27,
   "metadata": {},
   "outputs": [],
   "source": [
    "covid19_monthly_total_subset = covid19_monthly_total_subset[covid19_monthly_total_subset['location'].isin(g20_countries)]"
   ]
  },
  {
   "cell_type": "code",
   "execution_count": 28,
   "metadata": {},
   "outputs": [],
   "source": [
    "covid19_monthly_subset['location']=covid19_monthly_subset['location'].str.strip()\n",
    "covid19_monthly_total_subset['location']=covid19_monthly_total_subset['location'].str.strip()"
   ]
  },
  {
   "cell_type": "markdown",
   "metadata": {},
   "source": [
    "#### Impute Missing Values using Interpolate since we have time series data"
   ]
  },
  {
   "cell_type": "code",
   "execution_count": 29,
   "metadata": {},
   "outputs": [
    {
     "name": "stdout",
     "output_type": "stream",
     "text": [
      "<class 'pandas.core.frame.DataFrame'>\n",
      "Int64Index: 10627 entries, 3895 to 103956\n",
      "Data columns (total 12 columns):\n",
      " #   Column                Non-Null Count  Dtype         \n",
      "---  ------                --------------  -----         \n",
      " 0   iso_code              10627 non-null  string        \n",
      " 1   continent             10627 non-null  string        \n",
      " 2   location              10627 non-null  string        \n",
      " 3   date                  10627 non-null  datetime64[ns]\n",
      " 4   new_cases             10470 non-null  float64       \n",
      " 5   new_deaths            9995 non-null   float64       \n",
      " 6   new_tests             7830 non-null   float64       \n",
      " 7   new_vaccinations      3482 non-null   float64       \n",
      " 8   partially_vaccinated  3260 non-null   float64       \n",
      " 9   fully_vaccinated      3004 non-null   float64       \n",
      " 10  population            10627 non-null  object        \n",
      " 11  month_year            10627 non-null  object        \n",
      "dtypes: datetime64[ns](1), float64(6), object(2), string(3)\n",
      "memory usage: 1.1+ MB\n",
      "covid19_monthly_subset: None\n",
      "<class 'pandas.core.frame.DataFrame'>\n",
      "Int64Index: 10627 entries, 3895 to 103956\n",
      "Data columns (total 11 columns):\n",
      " #   Column              Non-Null Count  Dtype         \n",
      "---  ------              --------------  -----         \n",
      " 0   iso_code            10627 non-null  string        \n",
      " 1   continent           10627 non-null  string        \n",
      " 2   location            10627 non-null  string        \n",
      " 3   date                10627 non-null  datetime64[ns]\n",
      " 4   total_cases         10476 non-null  float64       \n",
      " 5   total_deaths        9996 non-null   float64       \n",
      " 6   total_tests         7680 non-null   float64       \n",
      " 7   total_vaccinations  3663 non-null   float64       \n",
      " 8   stringency_index    10476 non-null  float64       \n",
      " 9   population          10627 non-null  float64       \n",
      " 10  month_year          10627 non-null  object        \n",
      "dtypes: datetime64[ns](1), float64(6), object(1), string(3)\n",
      "memory usage: 996.3+ KB\n",
      "covid19_monthly_total_subset: None\n"
     ]
    }
   ],
   "source": [
    "print(\"covid19_monthly_subset:\",covid19_monthly_subset.info())\n",
    "print(\"covid19_monthly_total_subset:\",covid19_monthly_total_subset.info())"
   ]
  },
  {
   "cell_type": "code",
   "execution_count": 30,
   "metadata": {},
   "outputs": [],
   "source": [
    "covid19_monthly_subset['new_cases']= covid19_monthly_subset.groupby(\n",
    "        ['iso_code', 'continent', 'location']).apply(lambda group: group[['new_cases']].interpolate(method='linear'))\n",
    "covid19_monthly_subset['new_deaths']= covid19_monthly_subset.groupby(\n",
    "        ['iso_code', 'continent', 'location']).apply(lambda group: group[['new_deaths']].interpolate(method='linear'))\n",
    "covid19_monthly_subset['new_tests']= covid19_monthly_subset.groupby(\n",
    "        ['iso_code', 'continent', 'location']).apply(lambda group: group[['new_tests']].interpolate(method='linear'))\n",
    "covid19_monthly_subset['new_vaccinations']= covid19_monthly_subset.groupby(\n",
    "        ['iso_code', 'continent', 'location']).apply(lambda group: group[['new_vaccinations']].interpolate(method='linear'))\n",
    "covid19_monthly_subset['partially_vaccinated']= covid19_monthly_subset.groupby(\n",
    "        ['iso_code', 'continent', 'location']).apply(lambda group: group[['partially_vaccinated']].interpolate(method='linear'))\n",
    "covid19_monthly_subset['fully_vaccinated']= covid19_monthly_subset.groupby(\n",
    "        ['iso_code', 'continent', 'location']).apply(lambda group: group[['fully_vaccinated']].interpolate(method='linear'))"
   ]
  },
  {
   "cell_type": "code",
   "execution_count": 31,
   "metadata": {},
   "outputs": [],
   "source": [
    "covid19_monthly_total_subset['total_cases']= covid19_monthly_total_subset.groupby(\n",
    "        ['iso_code', 'continent', 'location']).apply(lambda group: group[['total_cases']].interpolate(method='linear'))\n",
    "covid19_monthly_total_subset['total_deaths']= covid19_monthly_total_subset.groupby(\n",
    "        ['iso_code', 'continent', 'location']).apply(lambda group: group[['total_deaths']].interpolate(method='linear'))\n",
    "covid19_monthly_total_subset['total_tests']= covid19_monthly_total_subset.groupby(\n",
    "        ['iso_code', 'continent', 'location']).apply(lambda group: group[['total_tests']].interpolate(method='linear'))\n",
    "covid19_monthly_total_subset['total_vaccinations']= covid19_monthly_total_subset.groupby(\n",
    "        ['iso_code', 'continent', 'location']).apply(lambda group: group[['total_vaccinations']].interpolate(method='linear'))\n",
    "covid19_monthly_total_subset['stringency_index']= covid19_monthly_total_subset.groupby(\n",
    "        ['iso_code', 'continent', 'location']).apply(lambda group: group[['stringency_index']].interpolate(method='linear'))\n"
   ]
  },
  {
   "cell_type": "code",
   "execution_count": 32,
   "metadata": {},
   "outputs": [],
   "source": [
    "#even after interpolate, there are some missing value,which would be imputed using fillna(0)\n",
    "covid19_monthly_subset.fillna(0,inplace=True)\n",
    "covid19_monthly_total_subset.fillna(0,inplace=True)"
   ]
  },
  {
   "cell_type": "code",
   "execution_count": 33,
   "metadata": {},
   "outputs": [],
   "source": [
    "#setting the index of the two dataframes to date so that we can perform some statistical operations \n",
    "#for specific monthly,basically we will now save the data month wise.\n",
    "\n",
    "covid19_monthly_subset.set_index('date', inplace=True)\n",
    "covid19_monthly_subset.index = pd.to_datetime(covid19_monthly_subset.index)\n",
    "covid19_monthly_total_subset.set_index('date', inplace=True)\n",
    "covid19_monthly_total_subset.index = pd.to_datetime(covid19_monthly_total_subset.index)"
   ]
  },
  {
   "cell_type": "code",
   "execution_count": 34,
   "metadata": {},
   "outputs": [
    {
     "name": "stdout",
     "output_type": "stream",
     "text": [
      "<class 'pandas.core.frame.DataFrame'>\n",
      "DatetimeIndex: 10627 entries, 2020-01-01 to 2021-08-12\n",
      "Data columns (total 11 columns):\n",
      " #   Column                Non-Null Count  Dtype  \n",
      "---  ------                --------------  -----  \n",
      " 0   iso_code              10627 non-null  string \n",
      " 1   continent             10627 non-null  string \n",
      " 2   location              10627 non-null  string \n",
      " 3   new_cases             10627 non-null  float64\n",
      " 4   new_deaths            10627 non-null  float64\n",
      " 5   new_tests             10627 non-null  float64\n",
      " 6   new_vaccinations      10627 non-null  float64\n",
      " 7   partially_vaccinated  10627 non-null  float64\n",
      " 8   fully_vaccinated      10627 non-null  float64\n",
      " 9   population            10627 non-null  object \n",
      " 10  month_year            10627 non-null  object \n",
      "dtypes: float64(6), object(2), string(3)\n",
      "memory usage: 996.3+ KB\n",
      "covid19_monthly_subset: None\n",
      "<class 'pandas.core.frame.DataFrame'>\n",
      "DatetimeIndex: 10627 entries, 2020-01-01 to 2021-08-12\n",
      "Data columns (total 10 columns):\n",
      " #   Column              Non-Null Count  Dtype  \n",
      "---  ------              --------------  -----  \n",
      " 0   iso_code            10627 non-null  string \n",
      " 1   continent           10627 non-null  string \n",
      " 2   location            10627 non-null  string \n",
      " 3   total_cases         10627 non-null  float64\n",
      " 4   total_deaths        10627 non-null  float64\n",
      " 5   total_tests         10627 non-null  float64\n",
      " 6   total_vaccinations  10627 non-null  float64\n",
      " 7   stringency_index    10627 non-null  float64\n",
      " 8   population          10627 non-null  float64\n",
      " 9   month_year          10627 non-null  object \n",
      "dtypes: float64(6), object(1), string(3)\n",
      "memory usage: 913.3+ KB\n",
      "covid19_monthly_total_subset: None\n"
     ]
    }
   ],
   "source": [
    "print(\"covid19_monthly_subset:\",covid19_monthly_subset.info())\n",
    "print(\"covid19_monthly_total_subset:\",covid19_monthly_total_subset.info())"
   ]
  },
  {
   "cell_type": "markdown",
   "metadata": {},
   "source": [
    "#### Round the integer columns to their nearest whole number"
   ]
  },
  {
   "cell_type": "code",
   "execution_count": 35,
   "metadata": {},
   "outputs": [],
   "source": [
    "#for the 1st dataset\n",
    "\n",
    "for col in covid19_monthly_subset.select_dtypes(include=['float64']):\n",
    "    covid19_monthly_subset[col]=covid19_monthly_subset[col].apply(lambda x : round(x))\n",
    "\n",
    "#for the 2nd dataset\n",
    "for col in covid19_monthly_total_subset.select_dtypes(include=['float64']):\n",
    "    covid19_monthly_total_subset[col]=covid19_monthly_total_subset[col].apply(lambda x : round(x))"
   ]
  },
  {
   "cell_type": "code",
   "execution_count": 36,
   "metadata": {},
   "outputs": [],
   "source": [
    "#recreate the monthly dataframe to save month wise data for each location\n",
    "\n",
    "covid19_monthly_subset = covid19_monthly_subset.groupby(\n",
    "    ['iso_code', 'continent', 'location','month_year','population']).resample('1M').sum()"
   ]
  },
  {
   "cell_type": "code",
   "execution_count": 37,
   "metadata": {},
   "outputs": [],
   "source": [
    "#once create insert back the indexes as the columns\n",
    "covid19_monthly_subset.reset_index(level=[0,1,2,3,4],inplace=True)"
   ]
  },
  {
   "cell_type": "code",
   "execution_count": 38,
   "metadata": {},
   "outputs": [],
   "source": [
    "covid19_monthly_subset.drop(columns=['new_vaccinations','new_tests'],inplace=True)"
   ]
  },
  {
   "cell_type": "markdown",
   "metadata": {},
   "source": [
    "#### Working on the dataframe to store details of cummulative month stats"
   ]
  },
  {
   "cell_type": "code",
   "execution_count": 39,
   "metadata": {},
   "outputs": [],
   "source": [
    "#recreate the monthly cummulative dataframe to save month wise data for each location having vaccinations deta\n",
    "covid19_monthly_total_vaccine_subset = covid19_monthly_total_subset.sort_index()\n",
    "\n",
    "covid19_monthly_total_vaccine_subset=covid19_monthly_total_vaccine_subset.groupby(\n",
    "    ['iso_code', 'continent', 'location','month_year','population']).resample('1M').sum()\n",
    "\n",
    "covid19_monthly_total_vaccine_subset['final_total_vaccinations'] = covid19_monthly_total_vaccine_subset.groupby(\n",
    "    ['iso_code', 'continent', 'location'])['total_vaccinations'].cumsum().astype('str')"
   ]
  },
  {
   "cell_type": "code",
   "execution_count": 40,
   "metadata": {},
   "outputs": [],
   "source": [
    "#recreate the monthly cummulative dataframe to save month wise data for each location having total deaths,total\n",
    "# cases,total tests details only\n",
    "\n",
    "covid19_monthly_total_nonvaccine_subset = covid19_monthly_total_subset.groupby(\n",
    "    ['iso_code', 'continent', 'location']).resample('1M')\n",
    "covid19_monthly_total_nonvaccine_subset = covid19_monthly_total_nonvaccine_subset.max()\n",
    "#covid19_monthly_total_nonvaccine_subset.drop('total_vaccinations', inplace=True, axis=1)"
   ]
  },
  {
   "cell_type": "code",
   "execution_count": 41,
   "metadata": {},
   "outputs": [],
   "source": [
    "#drop unnecessary columns \n",
    "covid19_monthly_total_vaccine_subset.drop(columns=['population','stringency_index',\n",
    "                                                   'total_tests','total_deaths','total_cases',\n",
    "                                                  'total_vaccinations'],inplace=True)\n",
    "covid19_monthly_total_vaccine_subset.reset_index(level=[0,1,2,3,4],inplace=True)\n",
    "\n",
    "#rename columns to keep it meaningful\n",
    "covid19_monthly_total_vaccine_subset.rename(columns={'final_total_vaccinations':'cumulative_vaccinations_count'},\n",
    "                              inplace=True)\n"
   ]
  },
  {
   "cell_type": "code",
   "execution_count": 42,
   "metadata": {},
   "outputs": [],
   "source": [
    "covid19_monthly_subset['population']=pd.to_numeric(covid19_monthly_subset['population'])"
   ]
  },
  {
   "cell_type": "markdown",
   "metadata": {},
   "source": [
    "#### Rearrange the columns"
   ]
  },
  {
   "cell_type": "code",
   "execution_count": 43,
   "metadata": {},
   "outputs": [],
   "source": [
    "columns = ['iso_code', 'continent', 'location', 'month_year', 'population','stringency_index',\n",
    "            'total_cases', 'total_deaths', 'total_tests']\n",
    "covid19_monthly_total_nonvaccine_subset = covid19_monthly_total_nonvaccine_subset.reindex(columns=columns)"
   ]
  },
  {
   "cell_type": "code",
   "execution_count": 44,
   "metadata": {},
   "outputs": [],
   "source": [
    "covid19_monthly_subset['total_vaccinations']=covid19_monthly_subset['partially_vaccinated']+covid19_monthly_subset['fully_vaccinated']"
   ]
  },
  {
   "cell_type": "markdown",
   "metadata": {},
   "source": [
    "#### Rename the columns : iso, location and continent"
   ]
  },
  {
   "cell_type": "code",
   "execution_count": 45,
   "metadata": {},
   "outputs": [],
   "source": [
    "covid19_monthly_total_nonvaccine_subset.rename(columns={'iso_code':'ISO',\n",
    "                                               'continent':'REGION',\n",
    "                                               'location' : 'COUNTRY'},inplace=True\n",
    "                                              )"
   ]
  },
  {
   "cell_type": "code",
   "execution_count": 46,
   "metadata": {},
   "outputs": [],
   "source": [
    "covid19_monthly_total_vaccine_subset.rename(columns={'iso_code':'ISO',\n",
    "                                               'continent':'REGION',\n",
    "                                               'location' : 'COUNTRY'},inplace=True\n",
    "                                           )"
   ]
  },
  {
   "cell_type": "code",
   "execution_count": 47,
   "metadata": {},
   "outputs": [],
   "source": [
    "\n",
    "covid19_monthly_subset.rename(columns={'iso_code':'ISO',\n",
    "                                               'continent':'REGION',\n",
    "                                               'location' : 'COUNTRY'},inplace=True\n",
    "                                           )"
   ]
  },
  {
   "cell_type": "markdown",
   "metadata": {},
   "source": [
    "#### Display the final cleaned dataframes"
   ]
  },
  {
   "cell_type": "code",
   "execution_count": 48,
   "metadata": {},
   "outputs": [
    {
     "data": {
      "text/html": [
       "<div>\n",
       "<style scoped>\n",
       "    .dataframe tbody tr th:only-of-type {\n",
       "        vertical-align: middle;\n",
       "    }\n",
       "\n",
       "    .dataframe tbody tr th {\n",
       "        vertical-align: top;\n",
       "    }\n",
       "\n",
       "    .dataframe thead th {\n",
       "        text-align: right;\n",
       "    }\n",
       "</style>\n",
       "<table border=\"1\" class=\"dataframe\">\n",
       "  <thead>\n",
       "    <tr style=\"text-align: right;\">\n",
       "      <th></th>\n",
       "      <th>ISO</th>\n",
       "      <th>REGION</th>\n",
       "      <th>COUNTRY</th>\n",
       "      <th>month_year</th>\n",
       "      <th>population</th>\n",
       "      <th>new_cases</th>\n",
       "      <th>new_deaths</th>\n",
       "      <th>partially_vaccinated</th>\n",
       "      <th>fully_vaccinated</th>\n",
       "      <th>total_vaccinations</th>\n",
       "    </tr>\n",
       "    <tr>\n",
       "      <th>date</th>\n",
       "      <th></th>\n",
       "      <th></th>\n",
       "      <th></th>\n",
       "      <th></th>\n",
       "      <th></th>\n",
       "      <th></th>\n",
       "      <th></th>\n",
       "      <th></th>\n",
       "      <th></th>\n",
       "      <th></th>\n",
       "    </tr>\n",
       "  </thead>\n",
       "  <tbody>\n",
       "    <tr>\n",
       "      <th>2020-08-31</th>\n",
       "      <td>GBR</td>\n",
       "      <td>Europe</td>\n",
       "      <td>United Kingdom</td>\n",
       "      <td>August 2020</td>\n",
       "      <td>6.788600e+07</td>\n",
       "      <td>33290</td>\n",
       "      <td>315</td>\n",
       "      <td>0</td>\n",
       "      <td>0</td>\n",
       "      <td>0</td>\n",
       "    </tr>\n",
       "    <tr>\n",
       "      <th>2021-08-31</th>\n",
       "      <td>CHN</td>\n",
       "      <td>Asia</td>\n",
       "      <td>China</td>\n",
       "      <td>August 2021</td>\n",
       "      <td>1.439324e+09</td>\n",
       "      <td>1257</td>\n",
       "      <td>0</td>\n",
       "      <td>7464000000</td>\n",
       "      <td>2679588000</td>\n",
       "      <td>10143588000</td>\n",
       "    </tr>\n",
       "    <tr>\n",
       "      <th>2021-07-31</th>\n",
       "      <td>USA</td>\n",
       "      <td>North America</td>\n",
       "      <td>United States</td>\n",
       "      <td>July 2021</td>\n",
       "      <td>3.310026e+08</td>\n",
       "      <td>1313306</td>\n",
       "      <td>8671</td>\n",
       "      <td>5756064650</td>\n",
       "      <td>4975166500</td>\n",
       "      <td>10731231150</td>\n",
       "    </tr>\n",
       "  </tbody>\n",
       "</table>\n",
       "</div>"
      ],
      "text/plain": [
       "            ISO         REGION         COUNTRY   month_year    population  \\\n",
       "date                                                                        \n",
       "2020-08-31  GBR         Europe  United Kingdom  August 2020  6.788600e+07   \n",
       "2021-08-31  CHN           Asia           China  August 2021  1.439324e+09   \n",
       "2021-07-31  USA  North America   United States    July 2021  3.310026e+08   \n",
       "\n",
       "            new_cases  new_deaths  partially_vaccinated  fully_vaccinated  \\\n",
       "date                                                                        \n",
       "2020-08-31      33290         315                     0                 0   \n",
       "2021-08-31       1257           0            7464000000        2679588000   \n",
       "2021-07-31    1313306        8671            5756064650        4975166500   \n",
       "\n",
       "            total_vaccinations  \n",
       "date                            \n",
       "2020-08-31                   0  \n",
       "2021-08-31         10143588000  \n",
       "2021-07-31         10731231150  "
      ]
     },
     "execution_count": 48,
     "metadata": {},
     "output_type": "execute_result"
    }
   ],
   "source": [
    "covid19_monthly_subset.sample(3)"
   ]
  },
  {
   "cell_type": "code",
   "execution_count": 49,
   "metadata": {},
   "outputs": [
    {
     "data": {
      "text/html": [
       "<div>\n",
       "<style scoped>\n",
       "    .dataframe tbody tr th:only-of-type {\n",
       "        vertical-align: middle;\n",
       "    }\n",
       "\n",
       "    .dataframe tbody tr th {\n",
       "        vertical-align: top;\n",
       "    }\n",
       "\n",
       "    .dataframe thead th {\n",
       "        text-align: right;\n",
       "    }\n",
       "</style>\n",
       "<table border=\"1\" class=\"dataframe\">\n",
       "  <thead>\n",
       "    <tr style=\"text-align: right;\">\n",
       "      <th></th>\n",
       "      <th></th>\n",
       "      <th></th>\n",
       "      <th></th>\n",
       "      <th>ISO</th>\n",
       "      <th>REGION</th>\n",
       "      <th>COUNTRY</th>\n",
       "      <th>month_year</th>\n",
       "      <th>population</th>\n",
       "      <th>stringency_index</th>\n",
       "      <th>total_cases</th>\n",
       "      <th>total_deaths</th>\n",
       "      <th>total_tests</th>\n",
       "    </tr>\n",
       "    <tr>\n",
       "      <th>iso_code</th>\n",
       "      <th>continent</th>\n",
       "      <th>location</th>\n",
       "      <th>date</th>\n",
       "      <th></th>\n",
       "      <th></th>\n",
       "      <th></th>\n",
       "      <th></th>\n",
       "      <th></th>\n",
       "      <th></th>\n",
       "      <th></th>\n",
       "      <th></th>\n",
       "      <th></th>\n",
       "    </tr>\n",
       "  </thead>\n",
       "  <tbody>\n",
       "    <tr>\n",
       "      <th>TUR</th>\n",
       "      <th>Asia</th>\n",
       "      <th>Turkey</th>\n",
       "      <th>2020-04-30</th>\n",
       "      <td>TUR</td>\n",
       "      <td>Asia</td>\n",
       "      <td>Turkey</td>\n",
       "      <td>April 2020</td>\n",
       "      <td>84339067</td>\n",
       "      <td>78</td>\n",
       "      <td>120204</td>\n",
       "      <td>3174</td>\n",
       "      <td>1033617</td>\n",
       "    </tr>\n",
       "    <tr>\n",
       "      <th>CHN</th>\n",
       "      <th>Asia</th>\n",
       "      <th>China</th>\n",
       "      <th>2020-07-31</th>\n",
       "      <td>CHN</td>\n",
       "      <td>Asia</td>\n",
       "      <td>China</td>\n",
       "      <td>July 2020</td>\n",
       "      <td>1439323774</td>\n",
       "      <td>78</td>\n",
       "      <td>84383</td>\n",
       "      <td>4634</td>\n",
       "      <td>150232558</td>\n",
       "    </tr>\n",
       "    <tr>\n",
       "      <th>IND</th>\n",
       "      <th>Asia</th>\n",
       "      <th>India</th>\n",
       "      <th>2021-07-31</th>\n",
       "      <td>IND</td>\n",
       "      <td>Asia</td>\n",
       "      <td>India</td>\n",
       "      <td>July 2021</td>\n",
       "      <td>1380004385</td>\n",
       "      <td>82</td>\n",
       "      <td>31655824</td>\n",
       "      <td>424351</td>\n",
       "      <td>466427038</td>\n",
       "    </tr>\n",
       "  </tbody>\n",
       "</table>\n",
       "</div>"
      ],
      "text/plain": [
       "                                        ISO REGION COUNTRY  month_year  \\\n",
       "iso_code continent location date                                         \n",
       "TUR      Asia      Turkey   2020-04-30  TUR   Asia  Turkey  April 2020   \n",
       "CHN      Asia      China    2020-07-31  CHN   Asia   China   July 2020   \n",
       "IND      Asia      India    2021-07-31  IND   Asia   India   July 2021   \n",
       "\n",
       "                                        population  stringency_index  \\\n",
       "iso_code continent location date                                       \n",
       "TUR      Asia      Turkey   2020-04-30    84339067                78   \n",
       "CHN      Asia      China    2020-07-31  1439323774                78   \n",
       "IND      Asia      India    2021-07-31  1380004385                82   \n",
       "\n",
       "                                        total_cases  total_deaths  total_tests  \n",
       "iso_code continent location date                                                \n",
       "TUR      Asia      Turkey   2020-04-30       120204          3174      1033617  \n",
       "CHN      Asia      China    2020-07-31        84383          4634    150232558  \n",
       "IND      Asia      India    2021-07-31     31655824        424351    466427038  "
      ]
     },
     "execution_count": 49,
     "metadata": {},
     "output_type": "execute_result"
    }
   ],
   "source": [
    "covid19_monthly_total_nonvaccine_subset.sample(3)"
   ]
  },
  {
   "cell_type": "code",
   "execution_count": 50,
   "metadata": {},
   "outputs": [
    {
     "data": {
      "text/html": [
       "<div>\n",
       "<style scoped>\n",
       "    .dataframe tbody tr th:only-of-type {\n",
       "        vertical-align: middle;\n",
       "    }\n",
       "\n",
       "    .dataframe tbody tr th {\n",
       "        vertical-align: top;\n",
       "    }\n",
       "\n",
       "    .dataframe thead th {\n",
       "        text-align: right;\n",
       "    }\n",
       "</style>\n",
       "<table border=\"1\" class=\"dataframe\">\n",
       "  <thead>\n",
       "    <tr style=\"text-align: right;\">\n",
       "      <th></th>\n",
       "      <th>ISO</th>\n",
       "      <th>REGION</th>\n",
       "      <th>COUNTRY</th>\n",
       "      <th>month_year</th>\n",
       "      <th>population</th>\n",
       "      <th>cumulative_vaccinations_count</th>\n",
       "    </tr>\n",
       "    <tr>\n",
       "      <th>date</th>\n",
       "      <th></th>\n",
       "      <th></th>\n",
       "      <th></th>\n",
       "      <th></th>\n",
       "      <th></th>\n",
       "      <th></th>\n",
       "    </tr>\n",
       "  </thead>\n",
       "  <tbody>\n",
       "    <tr>\n",
       "      <th>2020-11-30</th>\n",
       "      <td>USA</td>\n",
       "      <td>North America</td>\n",
       "      <td>United States</td>\n",
       "      <td>November 2020</td>\n",
       "      <td>331002647</td>\n",
       "      <td>43791131892</td>\n",
       "    </tr>\n",
       "    <tr>\n",
       "      <th>2020-07-31</th>\n",
       "      <td>USA</td>\n",
       "      <td>North America</td>\n",
       "      <td>United States</td>\n",
       "      <td>July 2020</td>\n",
       "      <td>331002647</td>\n",
       "      <td>12111629834</td>\n",
       "    </tr>\n",
       "    <tr>\n",
       "      <th>2021-02-28</th>\n",
       "      <td>KOR</td>\n",
       "      <td>Asia</td>\n",
       "      <td>South Korea</td>\n",
       "      <td>February 2021</td>\n",
       "      <td>51269183</td>\n",
       "      <td>381058826</td>\n",
       "    </tr>\n",
       "  </tbody>\n",
       "</table>\n",
       "</div>"
      ],
      "text/plain": [
       "            ISO         REGION        COUNTRY     month_year  population  \\\n",
       "date                                                                       \n",
       "2020-11-30  USA  North America  United States  November 2020   331002647   \n",
       "2020-07-31  USA  North America  United States      July 2020   331002647   \n",
       "2021-02-28  KOR           Asia    South Korea  February 2021    51269183   \n",
       "\n",
       "           cumulative_vaccinations_count  \n",
       "date                                      \n",
       "2020-11-30                   43791131892  \n",
       "2020-07-31                   12111629834  \n",
       "2021-02-28                     381058826  "
      ]
     },
     "execution_count": 50,
     "metadata": {},
     "output_type": "execute_result"
    }
   ],
   "source": [
    "covid19_monthly_total_vaccine_subset.sample(3)"
   ]
  },
  {
   "cell_type": "markdown",
   "metadata": {},
   "source": [
    "### Saving stats dataset"
   ]
  },
  {
   "cell_type": "code",
   "execution_count": 52,
   "metadata": {},
   "outputs": [],
   "source": [
    "covid19_monthly_total_nonvaccine_subset.to_csv(\"../cleaned_csv/covid19_cumulative_monthly_stats.csv\",index=False)\n",
    "covid19_monthly_subset.to_csv(\"../cleaned_csv/covid19_monthly_statistics.csv\",index=False)"
   ]
  },
  {
   "cell_type": "code",
   "execution_count": 53,
   "metadata": {},
   "outputs": [],
   "source": [
    "covid19_monthly_total_vaccine_subset.to_csv(\"../cleaned_csv/covid19_cumulative_monthly_vacc_stats.csv\",index=False)"
   ]
  }
 ],
 "metadata": {
  "kernelspec": {
   "display_name": "Python 3",
   "language": "python",
   "name": "python3"
  },
  "language_info": {
   "codemirror_mode": {
    "name": "ipython",
    "version": 3
   },
   "file_extension": ".py",
   "mimetype": "text/x-python",
   "name": "python",
   "nbconvert_exporter": "python",
   "pygments_lexer": "ipython3",
   "version": "3.8.5"
  }
 },
 "nbformat": 4,
 "nbformat_minor": 4
}
